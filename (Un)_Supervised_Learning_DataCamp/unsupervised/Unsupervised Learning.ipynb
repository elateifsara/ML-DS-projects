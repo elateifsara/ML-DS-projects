{
 "cells": [
  {
   "cell_type": "markdown",
   "metadata": {},
   "source": [
    "# Clustering for dataset exploration"
   ]
  },
  {
   "cell_type": "code",
   "execution_count": 1,
   "metadata": {},
   "outputs": [],
   "source": [
    "import pandas as pd\n",
    "import numpy as np\n",
    "import matplotlib.pyplot as plt\n",
    "%matplotlib inline"
   ]
  },
  {
   "cell_type": "code",
   "execution_count": 2,
   "metadata": {},
   "outputs": [],
   "source": [
    "# Import KMeans\n",
    "from sklearn.cluster import KMeans\n",
    "\n",
    "# Create a KMeans instance with 3 clusters: model\n",
    "model = KMeans(n_clusters=3)"
   ]
  },
  {
   "cell_type": "code",
   "execution_count": 3,
   "metadata": {},
   "outputs": [],
   "source": [
    "samples = pd.read_csv('samples.csv', header=None)"
   ]
  },
  {
   "cell_type": "code",
   "execution_count": 4,
   "metadata": {},
   "outputs": [
    {
     "data": {
      "text/html": [
       "<div>\n",
       "<style scoped>\n",
       "    .dataframe tbody tr th:only-of-type {\n",
       "        vertical-align: middle;\n",
       "    }\n",
       "\n",
       "    .dataframe tbody tr th {\n",
       "        vertical-align: top;\n",
       "    }\n",
       "\n",
       "    .dataframe thead th {\n",
       "        text-align: right;\n",
       "    }\n",
       "</style>\n",
       "<table border=\"1\" class=\"dataframe\">\n",
       "  <thead>\n",
       "    <tr style=\"text-align: right;\">\n",
       "      <th></th>\n",
       "      <th>0</th>\n",
       "      <th>1</th>\n",
       "      <th>2</th>\n",
       "      <th>3</th>\n",
       "      <th>4</th>\n",
       "      <th>5</th>\n",
       "      <th>6</th>\n",
       "    </tr>\n",
       "  </thead>\n",
       "  <tbody>\n",
       "    <tr>\n",
       "      <th>0</th>\n",
       "      <td>15.26</td>\n",
       "      <td>14.84</td>\n",
       "      <td>0.8710</td>\n",
       "      <td>5.763</td>\n",
       "      <td>3.312</td>\n",
       "      <td>2.221</td>\n",
       "      <td>5.220</td>\n",
       "    </tr>\n",
       "    <tr>\n",
       "      <th>1</th>\n",
       "      <td>14.88</td>\n",
       "      <td>14.57</td>\n",
       "      <td>0.8811</td>\n",
       "      <td>5.554</td>\n",
       "      <td>3.333</td>\n",
       "      <td>1.018</td>\n",
       "      <td>4.956</td>\n",
       "    </tr>\n",
       "    <tr>\n",
       "      <th>2</th>\n",
       "      <td>14.29</td>\n",
       "      <td>14.09</td>\n",
       "      <td>0.9050</td>\n",
       "      <td>5.291</td>\n",
       "      <td>3.337</td>\n",
       "      <td>2.699</td>\n",
       "      <td>4.825</td>\n",
       "    </tr>\n",
       "    <tr>\n",
       "      <th>3</th>\n",
       "      <td>13.84</td>\n",
       "      <td>13.94</td>\n",
       "      <td>0.8955</td>\n",
       "      <td>5.324</td>\n",
       "      <td>3.379</td>\n",
       "      <td>2.259</td>\n",
       "      <td>4.805</td>\n",
       "    </tr>\n",
       "    <tr>\n",
       "      <th>4</th>\n",
       "      <td>16.14</td>\n",
       "      <td>14.99</td>\n",
       "      <td>0.9034</td>\n",
       "      <td>5.658</td>\n",
       "      <td>3.562</td>\n",
       "      <td>1.355</td>\n",
       "      <td>5.175</td>\n",
       "    </tr>\n",
       "  </tbody>\n",
       "</table>\n",
       "</div>"
      ],
      "text/plain": [
       "       0      1       2      3      4      5      6\n",
       "0  15.26  14.84  0.8710  5.763  3.312  2.221  5.220\n",
       "1  14.88  14.57  0.8811  5.554  3.333  1.018  4.956\n",
       "2  14.29  14.09  0.9050  5.291  3.337  2.699  4.825\n",
       "3  13.84  13.94  0.8955  5.324  3.379  2.259  4.805\n",
       "4  16.14  14.99  0.9034  5.658  3.562  1.355  5.175"
      ]
     },
     "execution_count": 4,
     "metadata": {},
     "output_type": "execute_result"
    }
   ],
   "source": [
    "samples.head()"
   ]
  },
  {
   "cell_type": "code",
   "execution_count": 5,
   "metadata": {},
   "outputs": [
    {
     "data": {
      "text/plain": [
       "(210, 7)"
      ]
     },
     "execution_count": 5,
     "metadata": {},
     "output_type": "execute_result"
    }
   ],
   "source": [
    "samples.shape"
   ]
  },
  {
   "cell_type": "markdown",
   "metadata": {},
   "source": [
    "Dans la cellule qui suit nous dessinons un graphe qui nous montre à partir de quelle nombres de voisins notre modèle commence à bien converger. On doit choisir le voisin ou nous avons commencé à voir notre courbe converger vers 0."
   ]
  },
  {
   "cell_type": "code",
   "execution_count": 6,
   "metadata": {},
   "outputs": [
    {
     "data": {
      "image/png": "[encoded data removed]",
      "text/plain": [
       "<Figure size 432x288 with 1 Axes>"
      ]
     },
     "metadata": {
      "needs_background": "light"
     },
     "output_type": "display_data"
    }
   ],
   "source": [
    "ks = range(1, 6)\n",
    "inertias = []\n",
    "for k in ks:\n",
    "    # Create a KMeans instance with k clusters: model\n",
    "    model = KMeans(n_clusters=k)\n",
    "    # Fit model to samples\n",
    "    model.fit(samples)\n",
    "    # Append the inertia to the list of inertias\n",
    "    inertias.append(model.inertia_)\n",
    "    \n",
    "# Plot ks vs inertias\n",
    "plt.plot(ks, inertias, '-o')\n",
    "plt.xlabel('number of clusters, k')\n",
    "plt.ylabel('inertia')\n",
    "plt.xticks(ks)\n",
    "plt.show()"
   ]
  },
  {
   "cell_type": "code",
   "execution_count": 7,
   "metadata": {},
   "outputs": [],
   "source": [
    "varieties = ['Kama wheat', 'Kama wheat',\n",
    " 'Kama wheat',\n",
    " 'Kama wheat',\n",
    " 'Kama wheat',\n",
    " 'Kama wheat',\n",
    " 'Kama wheat',\n",
    " 'Kama wheat',\n",
    " 'Kama wheat',\n",
    " 'Kama wheat',\n",
    " 'Kama wheat',\n",
    " 'Kama wheat',\n",
    " 'Kama wheat',\n",
    " 'Kama wheat',\n",
    " 'Kama wheat',\n",
    " 'Kama wheat',\n",
    " 'Kama wheat',\n",
    " 'Kama wheat',\n",
    " 'Kama wheat',\n",
    " 'Kama wheat',\n",
    " 'Kama wheat',\n",
    " 'Kama wheat',\n",
    " 'Kama wheat',\n",
    " 'Kama wheat',\n",
    " 'Kama wheat',\n",
    " 'Kama wheat',\n",
    " 'Kama wheat',\n",
    " 'Kama wheat',\n",
    " 'Kama wheat',\n",
    " 'Kama wheat',\n",
    " 'Kama wheat',\n",
    " 'Kama wheat',\n",
    " 'Kama wheat',\n",
    " 'Kama wheat',\n",
    " 'Kama wheat',\n",
    " 'Kama wheat',\n",
    " 'Kama wheat',\n",
    " 'Kama wheat',\n",
    " 'Kama wheat',\n",
    " 'Kama wheat',\n",
    " 'Kama wheat',\n",
    " 'Kama wheat',\n",
    " 'Kama wheat',\n",
    " 'Kama wheat',\n",
    " 'Kama wheat',\n",
    " 'Kama wheat',\n",
    " 'Kama wheat',\n",
    " 'Kama wheat',\n",
    " 'Kama wheat',\n",
    " 'Kama wheat',\n",
    " 'Kama wheat',\n",
    " 'Kama wheat',\n",
    " 'Kama wheat',\n",
    " 'Kama wheat',\n",
    " 'Kama wheat',\n",
    " 'Kama wheat',\n",
    " 'Kama wheat',\n",
    " 'Kama wheat',\n",
    " 'Kama wheat',\n",
    " 'Kama wheat',\n",
    " 'Kama wheat',\n",
    " 'Kama wheat',\n",
    " 'Kama wheat',\n",
    " 'Kama wheat',\n",
    " 'Kama wheat',\n",
    " 'Kama wheat',\n",
    " 'Kama wheat',\n",
    " 'Kama wheat',\n",
    " 'Kama wheat',\n",
    " 'Kama wheat',\n",
    " 'Rosa wheat',\n",
    " 'Rosa wheat',\n",
    " 'Rosa wheat',\n",
    " 'Rosa wheat',\n",
    " 'Rosa wheat',\n",
    " 'Rosa wheat',\n",
    " 'Rosa wheat',\n",
    " 'Rosa wheat',\n",
    " 'Rosa wheat',\n",
    " 'Rosa wheat',\n",
    " 'Rosa wheat',\n",
    " 'Rosa wheat',\n",
    " 'Rosa wheat',\n",
    " 'Rosa wheat',\n",
    " 'Rosa wheat',\n",
    " 'Rosa wheat',\n",
    " 'Rosa wheat',\n",
    " 'Rosa wheat',\n",
    " 'Rosa wheat',\n",
    " 'Rosa wheat',\n",
    " 'Rosa wheat',\n",
    " 'Rosa wheat',\n",
    " 'Rosa wheat',\n",
    " 'Rosa wheat',\n",
    " 'Rosa wheat',\n",
    " 'Rosa wheat',\n",
    " 'Rosa wheat',\n",
    " 'Rosa wheat',\n",
    " 'Rosa wheat',\n",
    " 'Rosa wheat',\n",
    " 'Rosa wheat',\n",
    " 'Rosa wheat',\n",
    " 'Rosa wheat',\n",
    " 'Rosa wheat',\n",
    " 'Rosa wheat',\n",
    " 'Rosa wheat',\n",
    " 'Rosa wheat',\n",
    " 'Rosa wheat',\n",
    " 'Rosa wheat',\n",
    " 'Rosa wheat',\n",
    " 'Rosa wheat',\n",
    " 'Rosa wheat',\n",
    " 'Rosa wheat',\n",
    " 'Rosa wheat',\n",
    " 'Rosa wheat',\n",
    " 'Rosa wheat',\n",
    " 'Rosa wheat',\n",
    " 'Rosa wheat',\n",
    " 'Rosa wheat',\n",
    " 'Rosa wheat',\n",
    " 'Rosa wheat',\n",
    " 'Rosa wheat',\n",
    " 'Rosa wheat',\n",
    " 'Rosa wheat',\n",
    " 'Rosa wheat',\n",
    " 'Rosa wheat',\n",
    " 'Rosa wheat',\n",
    " 'Rosa wheat',\n",
    " 'Rosa wheat',\n",
    " 'Rosa wheat',\n",
    " 'Rosa wheat',\n",
    " 'Rosa wheat',\n",
    " 'Rosa wheat',\n",
    " 'Rosa wheat',\n",
    " 'Rosa wheat',\n",
    " 'Rosa wheat',\n",
    " 'Rosa wheat',\n",
    " 'Rosa wheat',\n",
    " 'Rosa wheat',\n",
    " 'Rosa wheat',\n",
    " 'Canadian wheat',\n",
    " 'Canadian wheat',\n",
    " 'Canadian wheat',\n",
    " 'Canadian wheat',\n",
    " 'Canadian wheat',\n",
    " 'Canadian wheat',\n",
    " 'Canadian wheat',\n",
    " 'Canadian wheat',\n",
    " 'Canadian wheat',\n",
    " 'Canadian wheat',\n",
    " 'Canadian wheat',\n",
    " 'Canadian wheat',\n",
    " 'Canadian wheat',\n",
    " 'Canadian wheat',\n",
    " 'Canadian wheat',\n",
    " 'Canadian wheat',\n",
    " 'Canadian wheat',\n",
    " 'Canadian wheat',\n",
    " 'Canadian wheat',\n",
    " 'Canadian wheat',\n",
    " 'Canadian wheat',\n",
    " 'Canadian wheat',\n",
    " 'Canadian wheat',\n",
    " 'Canadian wheat',\n",
    " 'Canadian wheat',\n",
    " 'Canadian wheat',\n",
    " 'Canadian wheat',\n",
    " 'Canadian wheat',\n",
    " 'Canadian wheat',\n",
    " 'Canadian wheat',\n",
    " 'Canadian wheat',\n",
    " 'Canadian wheat',\n",
    " 'Canadian wheat',\n",
    " 'Canadian wheat',\n",
    " 'Canadian wheat',\n",
    " 'Canadian wheat',\n",
    " 'Canadian wheat',\n",
    " 'Canadian wheat',\n",
    " 'Canadian wheat',\n",
    " 'Canadian wheat',\n",
    " 'Canadian wheat',\n",
    " 'Canadian wheat',\n",
    " 'Canadian wheat',\n",
    " 'Canadian wheat',\n",
    " 'Canadian wheat',\n",
    " 'Canadian wheat',\n",
    " 'Canadian wheat',\n",
    " 'Canadian wheat',\n",
    " 'Canadian wheat',\n",
    " 'Canadian wheat',\n",
    " 'Canadian wheat',\n",
    " 'Canadian wheat',\n",
    " 'Canadian wheat',\n",
    " 'Canadian wheat',\n",
    " 'Canadian wheat',\n",
    " 'Canadian wheat',\n",
    " 'Canadian wheat',\n",
    " 'Canadian wheat',\n",
    " 'Canadian wheat',\n",
    " 'Canadian wheat',\n",
    " 'Canadian wheat',\n",
    " 'Canadian wheat',\n",
    " 'Canadian wheat',\n",
    " 'Canadian wheat',\n",
    " 'Canadian wheat',\n",
    " 'Canadian wheat',\n",
    " 'Canadian wheat',\n",
    " 'Canadian wheat',\n",
    " 'Canadian wheat',\n",
    " 'Canadian wheat']"
   ]
  },
  {
   "cell_type": "code",
   "execution_count": 8,
   "metadata": {},
   "outputs": [],
   "source": [
    "# Create a KMeans model with 3 clusters: model\n",
    "model = KMeans(n_clusters=3)"
   ]
  },
  {
   "cell_type": "code",
   "execution_count": 9,
   "metadata": {},
   "outputs": [
    {
     "name": "stdout",
     "output_type": "stream",
     "text": [
      "varieties  Canadian wheat  Kama wheat  Rosa wheat\n",
      "labels                                           \n",
      "0                      68           9           0\n",
      "1                       0           1          60\n",
      "2                       2          60          10\n"
     ]
    }
   ],
   "source": [
    "# Use fit_predict to fit model and obtain cluster labels: labels\n",
    "labels = model.fit_predict(samples)\n",
    "# Create a DataFrame with labels and varieties as columns: df\n",
    "df = pd.DataFrame({'labels': labels, 'varieties': varieties})\n",
    "# Create crosstab: ct\n",
    "ct = pd.crosstab(df['labels'], df['varieties'])\n",
    "# Display ct\n",
    "print(ct)"
   ]
  },
  {
   "cell_type": "markdown",
   "metadata": {},
   "source": [
    "Crosstable nous aide à voir si notre modèle est bien arrivé à separer entre les différents clusters ou pas."
   ]
  },
  {
   "cell_type": "code",
   "execution_count": 10,
   "metadata": {},
   "outputs": [],
   "source": [
    "samples_fish = pd.read_csv('fish2.csv', header=None)"
   ]
  },
  {
   "cell_type": "code",
   "execution_count": 11,
   "metadata": {},
   "outputs": [
    {
     "data": {
      "text/html": [
       "<div>\n",
       "<style scoped>\n",
       "    .dataframe tbody tr th:only-of-type {\n",
       "        vertical-align: middle;\n",
       "    }\n",
       "\n",
       "    .dataframe tbody tr th {\n",
       "        vertical-align: top;\n",
       "    }\n",
       "\n",
       "    .dataframe thead th {\n",
       "        text-align: right;\n",
       "    }\n",
       "</style>\n",
       "<table border=\"1\" class=\"dataframe\">\n",
       "  <thead>\n",
       "    <tr style=\"text-align: right;\">\n",
       "      <th></th>\n",
       "      <th>0</th>\n",
       "      <th>1</th>\n",
       "      <th>2</th>\n",
       "      <th>3</th>\n",
       "      <th>4</th>\n",
       "      <th>5</th>\n",
       "    </tr>\n",
       "  </thead>\n",
       "  <tbody>\n",
       "    <tr>\n",
       "      <th>0</th>\n",
       "      <td>242.0</td>\n",
       "      <td>23.2</td>\n",
       "      <td>25.4</td>\n",
       "      <td>30.0</td>\n",
       "      <td>38.4</td>\n",
       "      <td>13.4</td>\n",
       "    </tr>\n",
       "    <tr>\n",
       "      <th>1</th>\n",
       "      <td>290.0</td>\n",
       "      <td>24.0</td>\n",
       "      <td>26.3</td>\n",
       "      <td>31.2</td>\n",
       "      <td>40.0</td>\n",
       "      <td>13.8</td>\n",
       "    </tr>\n",
       "    <tr>\n",
       "      <th>2</th>\n",
       "      <td>340.0</td>\n",
       "      <td>23.9</td>\n",
       "      <td>26.5</td>\n",
       "      <td>31.1</td>\n",
       "      <td>39.8</td>\n",
       "      <td>15.1</td>\n",
       "    </tr>\n",
       "    <tr>\n",
       "      <th>3</th>\n",
       "      <td>363.0</td>\n",
       "      <td>26.3</td>\n",
       "      <td>29.0</td>\n",
       "      <td>33.5</td>\n",
       "      <td>38.0</td>\n",
       "      <td>13.3</td>\n",
       "    </tr>\n",
       "    <tr>\n",
       "      <th>4</th>\n",
       "      <td>430.0</td>\n",
       "      <td>26.5</td>\n",
       "      <td>29.0</td>\n",
       "      <td>34.0</td>\n",
       "      <td>36.6</td>\n",
       "      <td>15.1</td>\n",
       "    </tr>\n",
       "  </tbody>\n",
       "</table>\n",
       "</div>"
      ],
      "text/plain": [
       "       0     1     2     3     4     5\n",
       "0  242.0  23.2  25.4  30.0  38.4  13.4\n",
       "1  290.0  24.0  26.3  31.2  40.0  13.8\n",
       "2  340.0  23.9  26.5  31.1  39.8  15.1\n",
       "3  363.0  26.3  29.0  33.5  38.0  13.3\n",
       "4  430.0  26.5  29.0  34.0  36.6  15.1"
      ]
     },
     "execution_count": 11,
     "metadata": {},
     "output_type": "execute_result"
    }
   ],
   "source": [
    "samples_fish.head()"
   ]
  },
  {
   "cell_type": "code",
   "execution_count": 12,
   "metadata": {},
   "outputs": [
    {
     "data": {
      "text/plain": [
       "(85, 6)"
      ]
     },
     "execution_count": 12,
     "metadata": {},
     "output_type": "execute_result"
    }
   ],
   "source": [
    "samples_fish.shape"
   ]
  },
  {
   "cell_type": "code",
   "execution_count": 13,
   "metadata": {},
   "outputs": [],
   "source": [
    "samples_fish = samples_fish.values"
   ]
  },
  {
   "cell_type": "code",
   "execution_count": 14,
   "metadata": {},
   "outputs": [
    {
     "data": {
      "text/plain": [
       "array([[ 242. ,   23.2,   25.4,   30. ,   38.4,   13.4],\n",
       "       [ 290. ,   24. ,   26.3,   31.2,   40. ,   13.8],\n",
       "       [ 340. ,   23.9,   26.5,   31.1,   39.8,   15.1],\n",
       "       [ 363. ,   26.3,   29. ,   33.5,   38. ,   13.3],\n",
       "       [ 430. ,   26.5,   29. ,   34. ,   36.6,   15.1],\n",
       "       [ 450. ,   26.8,   29.7,   34.7,   39.2,   14.2],\n",
       "       [ 500. ,   26.8,   29.7,   34.5,   41.1,   15.3],\n",
       "       [ 390. ,   27.6,   30. ,   35. ,   36.2,   13.4],\n",
       "       [ 450. ,   27.6,   30. ,   35.1,   39.9,   13.8],\n",
       "       [ 500. ,   28.5,   30.7,   36.2,   39.3,   13.7],\n",
       "       [ 475. ,   28.4,   31. ,   36.2,   39.4,   14.1],\n",
       "       [ 500. ,   28.7,   31. ,   36.2,   39.7,   13.3],\n",
       "       [ 500. ,   29.1,   31.5,   36.4,   37.8,   12. ],\n",
       "       [ 600. ,   29.4,   32. ,   37.2,   40.2,   13.9],\n",
       "       [ 600. ,   29.4,   32. ,   37.2,   41.5,   15. ],\n",
       "       [ 700. ,   30.4,   33. ,   38.3,   38.8,   13.8],\n",
       "       [ 700. ,   30.4,   33. ,   38.5,   38.8,   13.5],\n",
       "       [ 610. ,   30.9,   33.5,   38.6,   40.5,   13.3],\n",
       "       [ 650. ,   31. ,   33.5,   38.7,   37.4,   14.8],\n",
       "       [ 575. ,   31.3,   34. ,   39.5,   38.3,   14.1],\n",
       "       [ 685. ,   31.4,   34. ,   39.2,   40.8,   13.7],\n",
       "       [ 620. ,   31.5,   34.5,   39.7,   39.1,   13.3],\n",
       "       [ 680. ,   31.8,   35. ,   40.6,   38.1,   15.1],\n",
       "       [ 700. ,   31.9,   35. ,   40.5,   40.1,   13.8],\n",
       "       [ 725. ,   31.8,   35. ,   40.9,   40. ,   14.8],\n",
       "       [ 720. ,   32. ,   35. ,   40.6,   40.3,   15. ],\n",
       "       [ 714. ,   32.7,   36. ,   41.5,   39.8,   14.1],\n",
       "       [ 850. ,   32.8,   36. ,   41.6,   40.6,   14.9],\n",
       "       [1000. ,   33.5,   37. ,   42.6,   44.5,   15.5],\n",
       "       [ 920. ,   35. ,   38.5,   44.1,   40.9,   14.3],\n",
       "       [ 955. ,   35. ,   38.5,   44. ,   41.1,   14.3],\n",
       "       [ 925. ,   36.2,   39.5,   45.3,   41.4,   14.9],\n",
       "       [ 975. ,   37.4,   41. ,   45.9,   40.6,   14.7],\n",
       "       [ 950. ,   38. ,   41. ,   46.5,   37.9,   13.7],\n",
       "       [  40. ,   12.9,   14.1,   16.2,   25.6,   14. ],\n",
       "       [  69. ,   16.5,   18.2,   20.3,   26.1,   13.9],\n",
       "       [  78. ,   17.5,   18.8,   21.2,   26.3,   13.7],\n",
       "       [  87. ,   18.2,   19.8,   22.2,   25.3,   14.3],\n",
       "       [ 120. ,   18.6,   20. ,   22.2,   28. ,   16.1],\n",
       "       [   0. ,   19. ,   20.5,   22.8,   28.4,   14.7],\n",
       "       [ 110. ,   19.1,   20.8,   23.1,   26.7,   14.7],\n",
       "       [ 120. ,   19.4,   21. ,   23.7,   25.8,   13.9],\n",
       "       [ 150. ,   20.4,   22. ,   24.7,   23.5,   15.2],\n",
       "       [ 145. ,   20.5,   22. ,   24.3,   27.3,   14.6],\n",
       "       [ 160. ,   20.5,   22.5,   25.3,   27.8,   15.1],\n",
       "       [ 140. ,   21. ,   22.5,   25. ,   26.2,   13.3],\n",
       "       [ 160. ,   21.1,   22.5,   25. ,   25.6,   15.2],\n",
       "       [ 169. ,   22. ,   24. ,   27.2,   27.7,   14.1],\n",
       "       [ 161. ,   22. ,   23.4,   26.7,   25.9,   13.6],\n",
       "       [ 200. ,   22.1,   23.5,   26.8,   27.6,   15.4],\n",
       "       [ 180. ,   23.6,   25.2,   27.9,   25.4,   14. ],\n",
       "       [ 290. ,   24. ,   26. ,   29.2,   30.4,   15.4],\n",
       "       [ 272. ,   25. ,   27. ,   30.6,   28. ,   15.6],\n",
       "       [ 390. ,   29.5,   31.7,   35. ,   27.1,   15.3],\n",
       "       [   6.7,    9.3,    9.8,   10.8,   16.1,    9.7],\n",
       "       [   7.5,   10. ,   10.5,   11.6,   17. ,   10. ],\n",
       "       [   7. ,   10.1,   10.6,   11.6,   14.9,    9.9],\n",
       "       [   9.7,   10.4,   11. ,   12. ,   18.3,   11.5],\n",
       "       [   9.8,   10.7,   11.2,   12.4,   16.8,   10.3],\n",
       "       [   8.7,   10.8,   11.3,   12.6,   15.7,   10.2],\n",
       "       [  10. ,   11.3,   11.8,   13.1,   16.9,    9.8],\n",
       "       [   9.9,   11.3,   11.8,   13.1,   16.9,    8.9],\n",
       "       [   9.8,   11.4,   12. ,   13.2,   16.7,    8.7],\n",
       "       [  12.2,   11.5,   12.2,   13.4,   15.6,   10.4],\n",
       "       [  13.4,   11.7,   12.4,   13.5,   18. ,    9.4],\n",
       "       [  12.2,   12.1,   13. ,   13.8,   16.5,    9.1],\n",
       "       [  19.7,   13.2,   14.3,   15.2,   18.9,   13.6],\n",
       "       [  19.9,   13.8,   15. ,   16.2,   18.1,   11.6],\n",
       "       [ 200. ,   30. ,   32.3,   34.8,   16. ,    9.7],\n",
       "       [ 300. ,   31.7,   34. ,   37.8,   15.1,   11. ],\n",
       "       [ 300. ,   32.7,   35. ,   38.8,   15.3,   11.3],\n",
       "       [ 300. ,   34.8,   37.3,   39.8,   15.8,   10.1],\n",
       "       [ 430. ,   35.5,   38. ,   40.5,   18. ,   11.3],\n",
       "       [ 345. ,   36. ,   38.5,   41. ,   15.6,    9.7],\n",
       "       [ 456. ,   40. ,   42.5,   45.5,   16. ,    9.5],\n",
       "       [ 510. ,   40. ,   42.5,   45.5,   15. ,    9.8],\n",
       "       [ 540. ,   40.1,   43. ,   45.8,   17. ,   11.2],\n",
       "       [ 500. ,   42. ,   45. ,   48. ,   14.5,   10.2],\n",
       "       [ 567. ,   43.2,   46. ,   48.7,   16. ,   10. ],\n",
       "       [ 770. ,   44.8,   48. ,   51.2,   15. ,   10.5],\n",
       "       [ 950. ,   48.3,   51.7,   55.1,   16.2,   11.2],\n",
       "       [1250. ,   52. ,   56. ,   59.7,   17.9,   11.7],\n",
       "       [1600. ,   56. ,   60. ,   64. ,   15. ,    9.6],\n",
       "       [1550. ,   56. ,   60. ,   64. ,   15. ,    9.6],\n",
       "       [1650. ,   59. ,   63.4,   68. ,   15.9,   11. ]])"
      ]
     },
     "execution_count": 14,
     "metadata": {},
     "output_type": "execute_result"
    }
   ],
   "source": [
    "samples_fish"
   ]
  },
  {
   "cell_type": "code",
   "execution_count": 15,
   "metadata": {},
   "outputs": [],
   "source": [
    "# Perform the necessary imports\n",
    "from sklearn.preprocessing import StandardScaler\n",
    "from sklearn.cluster import KMeans\n",
    "from sklearn.pipeline import make_pipeline\n",
    "\n",
    "# Create scaler: scaler\n",
    "scaler = StandardScaler()\n",
    "\n",
    "# Create KMeans instance: kmeans\n",
    "kmeans = KMeans(n_clusters=4)\n",
    "\n",
    "# Create pipeline: pipeline\n",
    "pipeline = make_pipeline(scaler, kmeans)"
   ]
  },
  {
   "cell_type": "code",
   "execution_count": 16,
   "metadata": {},
   "outputs": [],
   "source": [
    "species = ['Bream',\n",
    " 'Bream',\n",
    " 'Bream',\n",
    " 'Bream',\n",
    " 'Bream',\n",
    " 'Bream',\n",
    " 'Bream',\n",
    " 'Bream',\n",
    " 'Bream',\n",
    " 'Bream',\n",
    " 'Bream',\n",
    " 'Bream',\n",
    " 'Bream',\n",
    " 'Bream',\n",
    " 'Bream',\n",
    " 'Bream',\n",
    " 'Bream',\n",
    " 'Bream',\n",
    " 'Bream',\n",
    " 'Bream',\n",
    " 'Bream',\n",
    " 'Bream',\n",
    " 'Bream',\n",
    " 'Bream',\n",
    " 'Bream',\n",
    " 'Bream',\n",
    " 'Bream',\n",
    " 'Bream',\n",
    " 'Bream',\n",
    " 'Bream',\n",
    " 'Bream',\n",
    " 'Bream',\n",
    " 'Bream',\n",
    " 'Bream',\n",
    " 'Roach',\n",
    " 'Roach',\n",
    " 'Roach',\n",
    " 'Roach',\n",
    " 'Roach',\n",
    " 'Roach',\n",
    " 'Roach',\n",
    " 'Roach',\n",
    " 'Roach',\n",
    " 'Roach',\n",
    " 'Roach',\n",
    " 'Roach',\n",
    " 'Roach',\n",
    " 'Roach',\n",
    " 'Roach',\n",
    " 'Roach',\n",
    " 'Roach',\n",
    " 'Roach',\n",
    " 'Roach',\n",
    " 'Roach',\n",
    " 'Smelt',\n",
    " 'Smelt',\n",
    " 'Smelt',\n",
    " 'Smelt',\n",
    " 'Smelt',\n",
    " 'Smelt',\n",
    " 'Smelt',\n",
    " 'Smelt',\n",
    " 'Smelt',\n",
    " 'Smelt',\n",
    " 'Smelt',\n",
    " 'Smelt',\n",
    " 'Smelt',\n",
    " 'Smelt',\n",
    " 'Pike',\n",
    " 'Pike',\n",
    " 'Pike',\n",
    " 'Pike',\n",
    " 'Pike',\n",
    " 'Pike',\n",
    " 'Pike',\n",
    " 'Pike',\n",
    " 'Pike',\n",
    " 'Pike',\n",
    " 'Pike',\n",
    " 'Pike',\n",
    " 'Pike',\n",
    " 'Pike',\n",
    " 'Pike',\n",
    " 'Pike',\n",
    " 'Pike']"
   ]
  },
  {
   "cell_type": "code",
   "execution_count": 17,
   "metadata": {},
   "outputs": [
    {
     "name": "stdout",
     "output_type": "stream",
     "text": [
      "species  Bream  Pike  Roach  Smelt\n",
      "labels                            \n",
      "0            0     0      0     13\n",
      "1           33     0      1      0\n",
      "2            0    17      0      0\n",
      "3            1     0     19      1\n"
     ]
    }
   ],
   "source": [
    "# Import pandas\n",
    "import pandas as pd\n",
    "\n",
    "# Fit the pipeline to samples\n",
    "pipeline.fit(samples_fish)\n",
    "\n",
    "# Calculate the cluster labels: labels\n",
    "labels = pipeline.predict(samples_fish)\n",
    "\n",
    "# Create a DataFrame with labels and species as columns: df\n",
    "df = pd.DataFrame({'labels':labels, 'species':species})\n",
    "\n",
    "# Create crosstab: ct\n",
    "ct = pd.crosstab(df['labels'], df['species'])\n",
    "\n",
    "# Display ct\n",
    "print(ct)"
   ]
  },
  {
   "cell_type": "code",
   "execution_count": 18,
   "metadata": {},
   "outputs": [],
   "source": [
    "movements = pd.read_csv('movements.csv', header=None)"
   ]
  },
  {
   "cell_type": "code",
   "execution_count": 19,
   "metadata": {},
   "outputs": [
    {
     "data": {
      "text/html": [
       "<div>\n",
       "<style scoped>\n",
       "    .dataframe tbody tr th:only-of-type {\n",
       "        vertical-align: middle;\n",
       "    }\n",
       "\n",
       "    .dataframe tbody tr th {\n",
       "        vertical-align: top;\n",
       "    }\n",
       "\n",
       "    .dataframe thead th {\n",
       "        text-align: right;\n",
       "    }\n",
       "</style>\n",
       "<table border=\"1\" class=\"dataframe\">\n",
       "  <thead>\n",
       "    <tr style=\"text-align: right;\">\n",
       "      <th></th>\n",
       "      <th>0</th>\n",
       "      <th>1</th>\n",
       "      <th>2</th>\n",
       "      <th>3</th>\n",
       "      <th>4</th>\n",
       "      <th>5</th>\n",
       "      <th>6</th>\n",
       "      <th>7</th>\n",
       "      <th>8</th>\n",
       "      <th>9</th>\n",
       "      <th>...</th>\n",
       "      <th>953</th>\n",
       "      <th>954</th>\n",
       "      <th>955</th>\n",
       "      <th>956</th>\n",
       "      <th>957</th>\n",
       "      <th>958</th>\n",
       "      <th>959</th>\n",
       "      <th>960</th>\n",
       "      <th>961</th>\n",
       "      <th>962</th>\n",
       "    </tr>\n",
       "  </thead>\n",
       "  <tbody>\n",
       "    <tr>\n",
       "      <th>0</th>\n",
       "      <td>0.580000</td>\n",
       "      <td>-0.220005</td>\n",
       "      <td>-3.409998</td>\n",
       "      <td>-1.170000</td>\n",
       "      <td>1.680011</td>\n",
       "      <td>-2.689994</td>\n",
       "      <td>-1.469994</td>\n",
       "      <td>2.779997</td>\n",
       "      <td>-0.680003</td>\n",
       "      <td>-4.999995</td>\n",
       "      <td>...</td>\n",
       "      <td>0.320008</td>\n",
       "      <td>4.519997</td>\n",
       "      <td>2.899987</td>\n",
       "      <td>9.590019</td>\n",
       "      <td>-6.540016</td>\n",
       "      <td>5.959976</td>\n",
       "      <td>6.910011</td>\n",
       "      <td>-5.359962</td>\n",
       "      <td>0.840019</td>\n",
       "      <td>-19.589981</td>\n",
       "    </tr>\n",
       "    <tr>\n",
       "      <th>1</th>\n",
       "      <td>-0.640002</td>\n",
       "      <td>-0.650000</td>\n",
       "      <td>-0.210001</td>\n",
       "      <td>-0.420000</td>\n",
       "      <td>0.710001</td>\n",
       "      <td>-0.200001</td>\n",
       "      <td>-1.130001</td>\n",
       "      <td>0.069999</td>\n",
       "      <td>-0.119999</td>\n",
       "      <td>-0.500000</td>\n",
       "      <td>...</td>\n",
       "      <td>0.919998</td>\n",
       "      <td>0.709999</td>\n",
       "      <td>0.119999</td>\n",
       "      <td>-0.480000</td>\n",
       "      <td>0.010002</td>\n",
       "      <td>-0.279998</td>\n",
       "      <td>-0.190003</td>\n",
       "      <td>-0.040001</td>\n",
       "      <td>-0.400002</td>\n",
       "      <td>0.660000</td>\n",
       "    </tr>\n",
       "    <tr>\n",
       "      <th>2</th>\n",
       "      <td>-2.350006</td>\n",
       "      <td>1.260009</td>\n",
       "      <td>-2.350006</td>\n",
       "      <td>-2.009995</td>\n",
       "      <td>2.960006</td>\n",
       "      <td>-2.309997</td>\n",
       "      <td>-1.640007</td>\n",
       "      <td>1.209999</td>\n",
       "      <td>-1.790001</td>\n",
       "      <td>-2.039994</td>\n",
       "      <td>...</td>\n",
       "      <td>2.109985</td>\n",
       "      <td>3.699982</td>\n",
       "      <td>9.570008</td>\n",
       "      <td>-3.450013</td>\n",
       "      <td>4.820008</td>\n",
       "      <td>-4.079986</td>\n",
       "      <td>2.579986</td>\n",
       "      <td>4.790009</td>\n",
       "      <td>-1.760009</td>\n",
       "      <td>3.740021</td>\n",
       "    </tr>\n",
       "    <tr>\n",
       "      <th>3</th>\n",
       "      <td>0.109997</td>\n",
       "      <td>0.000000</td>\n",
       "      <td>0.260002</td>\n",
       "      <td>0.720002</td>\n",
       "      <td>0.190003</td>\n",
       "      <td>-0.270001</td>\n",
       "      <td>0.750000</td>\n",
       "      <td>0.300004</td>\n",
       "      <td>0.639999</td>\n",
       "      <td>-0.130001</td>\n",
       "      <td>...</td>\n",
       "      <td>0.680001</td>\n",
       "      <td>2.290001</td>\n",
       "      <td>0.409996</td>\n",
       "      <td>-0.069999</td>\n",
       "      <td>0.100006</td>\n",
       "      <td>0.069999</td>\n",
       "      <td>0.130005</td>\n",
       "      <td>1.849999</td>\n",
       "      <td>0.040001</td>\n",
       "      <td>0.540001</td>\n",
       "    </tr>\n",
       "    <tr>\n",
       "      <th>4</th>\n",
       "      <td>0.459999</td>\n",
       "      <td>1.770000</td>\n",
       "      <td>1.549999</td>\n",
       "      <td>2.690003</td>\n",
       "      <td>0.059997</td>\n",
       "      <td>-1.080002</td>\n",
       "      <td>0.360000</td>\n",
       "      <td>0.549999</td>\n",
       "      <td>0.530002</td>\n",
       "      <td>-0.709999</td>\n",
       "      <td>...</td>\n",
       "      <td>1.559997</td>\n",
       "      <td>2.480003</td>\n",
       "      <td>0.019997</td>\n",
       "      <td>-1.220001</td>\n",
       "      <td>0.480003</td>\n",
       "      <td>3.020004</td>\n",
       "      <td>-0.029999</td>\n",
       "      <td>1.940002</td>\n",
       "      <td>1.130005</td>\n",
       "      <td>0.309998</td>\n",
       "    </tr>\n",
       "  </tbody>\n",
       "</table>\n",
       "<p>5 rows × 963 columns</p>\n",
       "</div>"
      ],
      "text/plain": [
       "        0         1         2         3         4         5         6    \\\n",
       "0  0.580000 -0.220005 -3.409998 -1.170000  1.680011 -2.689994 -1.469994   \n",
       "1 -0.640002 -0.650000 -0.210001 -0.420000  0.710001 -0.200001 -1.130001   \n",
       "2 -2.350006  1.260009 -2.350006 -2.009995  2.960006 -2.309997 -1.640007   \n",
       "3  0.109997  0.000000  0.260002  0.720002  0.190003 -0.270001  0.750000   \n",
       "4  0.459999  1.770000  1.549999  2.690003  0.059997 -1.080002  0.360000   \n",
       "\n",
       "        7         8         9      ...           953       954       955  \\\n",
       "0  2.779997 -0.680003 -4.999995    ...      0.320008  4.519997  2.899987   \n",
       "1  0.069999 -0.119999 -0.500000    ...      0.919998  0.709999  0.119999   \n",
       "2  1.209999 -1.790001 -2.039994    ...      2.109985  3.699982  9.570008   \n",
       "3  0.300004  0.639999 -0.130001    ...      0.680001  2.290001  0.409996   \n",
       "4  0.549999  0.530002 -0.709999    ...      1.559997  2.480003  0.019997   \n",
       "\n",
       "        956       957       958       959       960       961        962  \n",
       "0  9.590019 -6.540016  5.959976  6.910011 -5.359962  0.840019 -19.589981  \n",
       "1 -0.480000  0.010002 -0.279998 -0.190003 -0.040001 -0.400002   0.660000  \n",
       "2 -3.450013  4.820008 -4.079986  2.579986  4.790009 -1.760009   3.740021  \n",
       "3 -0.069999  0.100006  0.069999  0.130005  1.849999  0.040001   0.540001  \n",
       "4 -1.220001  0.480003  3.020004 -0.029999  1.940002  1.130005   0.309998  \n",
       "\n",
       "[5 rows x 963 columns]"
      ]
     },
     "execution_count": 19,
     "metadata": {},
     "output_type": "execute_result"
    }
   ],
   "source": [
    "movements.head()"
   ]
  },
  {
   "cell_type": "code",
   "execution_count": 20,
   "metadata": {},
   "outputs": [
    {
     "data": {
      "text/plain": [
       "Pipeline(memory=None,\n",
       "     steps=[('normalizer', Normalizer(copy=True, norm='l2')), ('kmeans', KMeans(algorithm='auto', copy_x=True, init='k-means++', max_iter=300,\n",
       "    n_clusters=10, n_init=10, n_jobs=1, precompute_distances='auto',\n",
       "    random_state=None, tol=0.0001, verbose=0))])"
      ]
     },
     "execution_count": 20,
     "metadata": {},
     "output_type": "execute_result"
    }
   ],
   "source": [
    "# Import Normalizer\n",
    "from sklearn.preprocessing import Normalizer\n",
    "\n",
    "# Create a normalizer: normalizer\n",
    "normalizer = Normalizer()\n",
    "\n",
    "# Create a KMeans model with 10 clusters: kmeans\n",
    "kmeans = KMeans(n_clusters=10)\n",
    "\n",
    "# Make a pipeline chaining normalizer and kmeans: pipeline\n",
    "pipeline = make_pipeline(normalizer, kmeans)\n",
    "\n",
    "# Fit pipeline to the daily price movements\n",
    "pipeline.fit(movements)"
   ]
  },
  {
   "cell_type": "code",
   "execution_count": 21,
   "metadata": {},
   "outputs": [],
   "source": [
    "companies = ['Apple',\n",
    " 'AIG',\n",
    " 'Amazon',\n",
    " 'American express',\n",
    " 'Boeing',\n",
    " 'Bank of America',\n",
    " 'British American Tobacco',\n",
    " 'Canon',\n",
    " 'Caterpillar',\n",
    " 'Colgate-Palmolive',\n",
    " 'ConocoPhillips',\n",
    " 'Cisco',\n",
    " 'Chevron',\n",
    " 'DuPont de Nemours',\n",
    " 'Dell',\n",
    " 'Ford',\n",
    " 'General Electrics',\n",
    " 'Google/Alphabet',\n",
    " 'Goldman Sachs',\n",
    " 'GlaxoSmithKline',\n",
    " 'Home Depot',\n",
    " 'Honda',\n",
    " 'HP',\n",
    " 'IBM',\n",
    " 'Intel',\n",
    " 'Johnson & Johnson',\n",
    " 'JPMorgan Chase',\n",
    " 'Kimberly-Clark',\n",
    " 'Coca Cola',\n",
    " 'Lookheed Martin',\n",
    " 'MasterCard',\n",
    " 'McDonalds',\n",
    " '3M',\n",
    " 'Microsoft',\n",
    " 'Mitsubishi',\n",
    " 'Navistar',\n",
    " 'Northrop Grumman',\n",
    " 'Novartis',\n",
    " 'Pepsi',\n",
    " 'Pfizer',\n",
    " 'Procter Gamble',\n",
    " 'Philip Morris',\n",
    " 'Royal Dutch Shell',\n",
    " 'SAP',\n",
    " 'Schlumberger',\n",
    " 'Sony',\n",
    " 'Sanofi-Aventis',\n",
    " 'Symantec',\n",
    " 'Toyota',\n",
    " 'Total',\n",
    " 'Taiwan Semiconductor Manufacturing',\n",
    " 'Texas instruments',\n",
    " 'Unilever',\n",
    " 'Valero Energy',\n",
    " 'Walgreen',\n",
    " 'Wells Fargo',\n",
    " 'Wal-Mart',\n",
    " 'Exxon',\n",
    " 'Xerox',\n",
    " 'Yahoo']"
   ]
  },
  {
   "cell_type": "code",
   "execution_count": 22,
   "metadata": {},
   "outputs": [
    {
     "name": "stdout",
     "output_type": "stream",
     "text": [
      "                             companies  labels\n",
      "35                            Navistar       0\n",
      "18                       Goldman Sachs       1\n",
      "1                                  AIG       1\n",
      "16                   General Electrics       1\n",
      "3                     American express       1\n",
      "20                          Home Depot       1\n",
      "5                      Bank of America       1\n",
      "55                         Wells Fargo       1\n",
      "26                      JPMorgan Chase       1\n",
      "21                               Honda       2\n",
      "24                               Intel       2\n",
      "50  Taiwan Semiconductor Manufacturing       2\n",
      "59                               Yahoo       2\n",
      "34                          Mitsubishi       2\n",
      "45                                Sony       2\n",
      "47                            Symantec       2\n",
      "48                              Toyota       2\n",
      "58                               Xerox       2\n",
      "33                           Microsoft       2\n",
      "51                   Texas instruments       2\n",
      "15                                Ford       2\n",
      "2                               Amazon       2\n",
      "11                               Cisco       2\n",
      "7                                Canon       2\n",
      "25                   Johnson & Johnson       3\n",
      "56                            Wal-Mart       3\n",
      "27                      Kimberly-Clark       3\n",
      "40                      Procter Gamble       3\n",
      "9                    Colgate-Palmolive       3\n",
      "57                               Exxon       4\n",
      "44                        Schlumberger       4\n",
      "23                                 IBM       4\n",
      "8                          Caterpillar       4\n",
      "13                   DuPont de Nemours       4\n",
      "12                             Chevron       4\n",
      "53                       Valero Energy       4\n",
      "10                      ConocoPhillips       4\n",
      "32                                  3M       4\n",
      "42                   Royal Dutch Shell       5\n",
      "49                               Total       5\n",
      "46                      Sanofi-Aventis       5\n",
      "6             British American Tobacco       5\n",
      "43                                 SAP       5\n",
      "37                            Novartis       5\n",
      "39                              Pfizer       5\n",
      "30                          MasterCard       5\n",
      "52                            Unilever       5\n",
      "19                     GlaxoSmithKline       5\n",
      "28                           Coca Cola       6\n",
      "38                               Pepsi       6\n",
      "41                       Philip Morris       6\n",
      "31                           McDonalds       6\n",
      "0                                Apple       7\n",
      "17                     Google/Alphabet       7\n",
      "54                            Walgreen       8\n",
      "4                               Boeing       8\n",
      "36                    Northrop Grumman       8\n",
      "29                     Lookheed Martin       8\n",
      "22                                  HP       9\n",
      "14                                Dell       9\n"
     ]
    }
   ],
   "source": [
    "# Import pandas\n",
    "import pandas as pd\n",
    "\n",
    "# Predict the cluster labels: labels\n",
    "labels = pipeline.predict(movements)\n",
    "\n",
    "# Create a DataFrame aligning labels and companies: df\n",
    "df = pd.DataFrame({'labels': labels, 'companies': companies})\n",
    "\n",
    "# Display df sorted by cluster label\n",
    "print(df.sort_values('labels'))"
   ]
  },
  {
   "cell_type": "markdown",
   "metadata": {},
   "source": [
    "# Visualization with hierarchical clustering and t-SNE"
   ]
  },
  {
   "cell_type": "code",
   "execution_count": 23,
   "metadata": {},
   "outputs": [
    {
     "data": {
      "image/png": "[encoded data removed]",
      "text/plain": [
       "<Figure size 432x288 with 1 Axes>"
      ]
     },
     "metadata": {
      "needs_background": "light"
     },
     "output_type": "display_data"
    }
   ],
   "source": [
    "# Perform the necessary imports\n",
    "from scipy.cluster.hierarchy  import linkage, dendrogram\n",
    "import matplotlib.pyplot as plt\n",
    "\n",
    "# Calculate the linkage: mergings\n",
    "mergings = linkage(samples, method='complete')\n",
    "\n",
    "# Plot the dendrogram, using varieties as labels\n",
    "dendrogram(mergings,\n",
    "           labels=varieties,\n",
    "           leaf_rotation=90,\n",
    "           leaf_font_size=6,\n",
    ")\n",
    "plt.show()"
   ]
  },
  {
   "cell_type": "code",
   "execution_count": 24,
   "metadata": {},
   "outputs": [
    {
     "data": {
      "image/png": "[encoded data removed]",
      "text/plain": [
       "<Figure size 432x288 with 1 Axes>"
      ]
     },
     "metadata": {
      "needs_background": "light"
     },
     "output_type": "display_data"
    }
   ],
   "source": [
    "# Import normalize\n",
    "from sklearn.preprocessing import normalize\n",
    "\n",
    "# Normalize the movements: normalized_movements\n",
    "normalized_movements = normalize(movements)\n",
    "\n",
    "# Calculate the linkage: mergings\n",
    "mergings = linkage(normalized_movements, method='complete')\n",
    "\n",
    "# Plot the dendrogram\n",
    "dendrogram(mergings,\n",
    "           labels=companies,\n",
    "           leaf_rotation=90,\n",
    "           leaf_font_size=6)\n",
    "plt.show()"
   ]
  },
  {
   "cell_type": "code",
   "execution_count": 25,
   "metadata": {},
   "outputs": [
    {
     "data": {
      "image/png": "[encoded data removed]",
      "text/plain": [
       "<Figure size 432x288 with 1 Axes>"
      ]
     },
     "metadata": {
      "needs_background": "light"
     },
     "output_type": "display_data"
    }
   ],
   "source": [
    "# Perform the necessary imports\n",
    "from scipy.cluster.hierarchy  import linkage, dendrogram\n",
    "import matplotlib.pyplot as plt\n",
    "\n",
    "# Calculate the linkage: mergings\n",
    "mergings = linkage(samples, method='complete')\n",
    "\n",
    "# Plot the dendrogram, using varieties as labels\n",
    "dendrogram(mergings,\n",
    "           labels=varieties,\n",
    "           leaf_rotation=90,\n",
    "           leaf_font_size=6,\n",
    ")\n",
    "plt.show()"
   ]
  },
  {
   "cell_type": "code",
   "execution_count": 26,
   "metadata": {},
   "outputs": [
    {
     "name": "stdout",
     "output_type": "stream",
     "text": [
      "varieties  Canadian wheat  Kama wheat  Rosa wheat\n",
      "labels                                           \n",
      "1                       0           0          47\n",
      "2                       0          52          23\n",
      "3                      13           1           0\n",
      "4                      57          17           0\n"
     ]
    }
   ],
   "source": [
    "# Perform the necessary imports\n",
    "import pandas as pd\n",
    "from scipy.cluster.hierarchy import fcluster\n",
    "# Use fcluster to extract labels: labels\n",
    "labels = fcluster(mergings, 6, criterion='distance')\n",
    "# Create a DataFrame with labels and varieties as columns: df\n",
    "df = pd.DataFrame({'labels': labels, 'varieties': varieties})\n",
    "# Create crosstab: ct\n",
    "ct = pd.crosstab(df['labels'], df['varieties'])\n",
    "# Display ct\n",
    "print(ct)"
   ]
  },
  {
   "cell_type": "code",
   "execution_count": 27,
   "metadata": {},
   "outputs": [
    {
     "data": {
      "text/plain": [
       "(210,)"
      ]
     },
     "execution_count": 27,
     "metadata": {},
     "output_type": "execute_result"
    }
   ],
   "source": [
    "labels.shape"
   ]
  },
  {
   "cell_type": "code",
   "execution_count": 28,
   "metadata": {},
   "outputs": [],
   "source": [
    "variety_numbers = [1,\n",
    " 1,\n",
    " 1,\n",
    " 1,\n",
    " 1,\n",
    " 1,\n",
    " 1,\n",
    " 1,\n",
    " 1,\n",
    " 1,\n",
    " 1,\n",
    " 1,\n",
    " 1,\n",
    " 1,\n",
    " 1,\n",
    " 1,\n",
    " 1,\n",
    " 1,\n",
    " 1,\n",
    " 1,\n",
    " 1,\n",
    " 1,\n",
    " 1,\n",
    " 1,\n",
    " 1,\n",
    " 1,\n",
    " 1,\n",
    " 1,\n",
    " 1,\n",
    " 1,\n",
    " 1,\n",
    " 1,\n",
    " 1,\n",
    " 1,\n",
    " 1,\n",
    " 1,\n",
    " 1,\n",
    " 1,\n",
    " 1,\n",
    " 1,\n",
    " 1,\n",
    " 1,\n",
    " 1,\n",
    " 1,\n",
    " 1,\n",
    " 1,\n",
    " 1,\n",
    " 1,\n",
    " 1,\n",
    " 1,\n",
    " 1,\n",
    " 1,\n",
    " 1,\n",
    " 1,\n",
    " 1,\n",
    " 1,\n",
    " 1,\n",
    " 1,\n",
    " 1,\n",
    " 1,\n",
    " 1,\n",
    " 1,\n",
    " 1,\n",
    " 1,\n",
    " 1,\n",
    " 1,\n",
    " 1,\n",
    " 1,\n",
    " 1,\n",
    " 1,\n",
    " 2,\n",
    " 2,\n",
    " 2,\n",
    " 2,\n",
    " 2,\n",
    " 2,\n",
    " 2,\n",
    " 2,\n",
    " 2,\n",
    " 2,\n",
    " 2,\n",
    " 2,\n",
    " 2,\n",
    " 2,\n",
    " 2,\n",
    " 2,\n",
    " 2,\n",
    " 2,\n",
    " 2,\n",
    " 2,\n",
    " 2,\n",
    " 2,\n",
    " 2,\n",
    " 2,\n",
    " 2,\n",
    " 2,\n",
    " 2,\n",
    " 2,\n",
    " 2,\n",
    " 2,\n",
    " 2,\n",
    " 2,\n",
    " 2,\n",
    " 2,\n",
    " 2,\n",
    " 2,\n",
    " 2,\n",
    " 2,\n",
    " 2,\n",
    " 2,\n",
    " 2,\n",
    " 2,\n",
    " 2,\n",
    " 2,\n",
    " 2,\n",
    " 2,\n",
    " 2,\n",
    " 2,\n",
    " 2,\n",
    " 2,\n",
    " 2,\n",
    " 2,\n",
    " 2,\n",
    " 2,\n",
    " 2,\n",
    " 2,\n",
    " 2,\n",
    " 2,\n",
    " 2,\n",
    " 2,\n",
    " 2,\n",
    " 2,\n",
    " 2,\n",
    " 2,\n",
    " 2,\n",
    " 2,\n",
    " 2,\n",
    " 2,\n",
    " 2,\n",
    " 2,\n",
    " 3,\n",
    " 3,\n",
    " 3,\n",
    " 3,\n",
    " 3,\n",
    " 3,\n",
    " 3,\n",
    " 3,\n",
    " 3,\n",
    " 3,\n",
    " 3,\n",
    " 3,\n",
    " 3,\n",
    " 3,\n",
    " 3,\n",
    " 3,\n",
    " 3,\n",
    " 3,\n",
    " 3,\n",
    " 3,\n",
    " 3,\n",
    " 3,\n",
    " 3,\n",
    " 3,\n",
    " 3,\n",
    " 3,\n",
    " 3,\n",
    " 3,\n",
    " 3,\n",
    " 3,\n",
    " 3,\n",
    " 3,\n",
    " 3,\n",
    " 3,\n",
    " 3,\n",
    " 3,\n",
    " 3,\n",
    " 3,\n",
    " 3,\n",
    " 3,\n",
    " 3,\n",
    " 3,\n",
    " 3,\n",
    " 3,\n",
    " 3,\n",
    " 3,\n",
    " 3,\n",
    " 3,\n",
    " 3,\n",
    " 3,\n",
    " 3,\n",
    " 3,\n",
    " 3,\n",
    " 3,\n",
    " 3,\n",
    " 3,\n",
    " 3,\n",
    " 3,\n",
    " 3,\n",
    " 3,\n",
    " 3,\n",
    " 3,\n",
    " 3,\n",
    " 3,\n",
    " 3,\n",
    " 3,\n",
    " 3,\n",
    " 3,\n",
    " 3,\n",
    " 3]\n"
   ]
  },
  {
   "cell_type": "code",
   "execution_count": 29,
   "metadata": {},
   "outputs": [
    {
     "data": {
      "image/png": "[encoded data removed]",
      "text/plain": [
       "<Figure size 432x288 with 1 Axes>"
      ]
     },
     "metadata": {
      "needs_background": "light"
     },
     "output_type": "display_data"
    }
   ],
   "source": [
    "# Import TSNE\n",
    "from sklearn.manifold import TSNE\n",
    "\n",
    "# Create a TSNE instance: model\n",
    "model = TSNE(learning_rate=200)\n",
    "\n",
    "# Apply fit_transform to samples: tsne_features\n",
    "tsne_features = model.fit_transform(samples)\n",
    "\n",
    "# Select the 0th feature: xs\n",
    "xs = tsne_features[:,0]\n",
    "\n",
    "# Select the 1st feature: ys\n",
    "ys = tsne_features[:,1]\n",
    "\n",
    "# Scatter plot, coloring by variety_numbers\n",
    "plt.scatter(xs, ys, c=variety_numbers)\n",
    "plt.show()"
   ]
  },
  {
   "cell_type": "code",
   "execution_count": 30,
   "metadata": {},
   "outputs": [
    {
     "data": {
      "image/png": "[encoded data removed]",
      "text/plain": [
       "<Figure size 432x288 with 1 Axes>"
      ]
     },
     "metadata": {
      "needs_background": "light"
     },
     "output_type": "display_data"
    }
   ],
   "source": [
    "# Import TSNE\n",
    "from sklearn.manifold import TSNE\n",
    "\n",
    "# Create a TSNE instance: model\n",
    "model = TSNE(learning_rate=50)\n",
    "\n",
    "# Apply fit_transform to normalized_movements: tsne_features\n",
    "tsne_features = model.fit_transform(normalized_movements)\n",
    "\n",
    "# Select the 0th feature: xs\n",
    "xs = tsne_features[:,0]\n",
    "\n",
    "# Select the 1th feature: ys\n",
    "ys = tsne_features[:,1]\n",
    "\n",
    "# Scatter plot\n",
    "plt.scatter(xs, ys, alpha=0.5)\n",
    "\n",
    "# Annotate the points\n",
    "for x, y, company in zip(xs, ys, companies):\n",
    "    plt.annotate(company, (x, y), fontsize=5, alpha=0.75)\n",
    "plt.show()"
   ]
  },
  {
   "cell_type": "markdown",
   "metadata": {},
   "source": [
    "# Decorrelating your data and dimension reduction"
   ]
  },
  {
   "cell_type": "code",
   "execution_count": 31,
   "metadata": {},
   "outputs": [],
   "source": [
    "grains = pd.read_csv('grains.csv', header=None)"
   ]
  },
  {
   "cell_type": "code",
   "execution_count": 32,
   "metadata": {},
   "outputs": [
    {
     "data": {
      "text/html": [
       "<div>\n",
       "<style scoped>\n",
       "    .dataframe tbody tr th:only-of-type {\n",
       "        vertical-align: middle;\n",
       "    }\n",
       "\n",
       "    .dataframe tbody tr th {\n",
       "        vertical-align: top;\n",
       "    }\n",
       "\n",
       "    .dataframe thead th {\n",
       "        text-align: right;\n",
       "    }\n",
       "</style>\n",
       "<table border=\"1\" class=\"dataframe\">\n",
       "  <thead>\n",
       "    <tr style=\"text-align: right;\">\n",
       "      <th></th>\n",
       "      <th>0</th>\n",
       "      <th>1</th>\n",
       "    </tr>\n",
       "  </thead>\n",
       "  <tbody>\n",
       "    <tr>\n",
       "      <th>0</th>\n",
       "      <td>3.312</td>\n",
       "      <td>5.763</td>\n",
       "    </tr>\n",
       "    <tr>\n",
       "      <th>1</th>\n",
       "      <td>3.333</td>\n",
       "      <td>5.554</td>\n",
       "    </tr>\n",
       "    <tr>\n",
       "      <th>2</th>\n",
       "      <td>3.337</td>\n",
       "      <td>5.291</td>\n",
       "    </tr>\n",
       "    <tr>\n",
       "      <th>3</th>\n",
       "      <td>3.379</td>\n",
       "      <td>5.324</td>\n",
       "    </tr>\n",
       "    <tr>\n",
       "      <th>4</th>\n",
       "      <td>3.562</td>\n",
       "      <td>5.658</td>\n",
       "    </tr>\n",
       "  </tbody>\n",
       "</table>\n",
       "</div>"
      ],
      "text/plain": [
       "       0      1\n",
       "0  3.312  5.763\n",
       "1  3.333  5.554\n",
       "2  3.337  5.291\n",
       "3  3.379  5.324\n",
       "4  3.562  5.658"
      ]
     },
     "execution_count": 32,
     "metadata": {},
     "output_type": "execute_result"
    }
   ],
   "source": [
    "grains.head()"
   ]
  },
  {
   "cell_type": "code",
   "execution_count": 33,
   "metadata": {},
   "outputs": [],
   "source": [
    "grains = grains.values"
   ]
  },
  {
   "cell_type": "code",
   "execution_count": 34,
   "metadata": {},
   "outputs": [
    {
     "data": {
      "text/plain": [
       "(210, 2)"
      ]
     },
     "execution_count": 34,
     "metadata": {},
     "output_type": "execute_result"
    }
   ],
   "source": [
    "grains.shape"
   ]
  },
  {
   "cell_type": "code",
   "execution_count": 35,
   "metadata": {},
   "outputs": [
    {
     "data": {
      "image/png": "[encoded data removed]",
      "text/plain": [
       "<Figure size 432x288 with 1 Axes>"
      ]
     },
     "metadata": {
      "needs_background": "light"
     },
     "output_type": "display_data"
    },
    {
     "name": "stdout",
     "output_type": "stream",
     "text": [
      "0.8604149377143467\n"
     ]
    }
   ],
   "source": [
    "# Perform the necessary imports\n",
    "import matplotlib.pyplot as plt\n",
    "from scipy.stats import pearsonr \n",
    "\n",
    "# Assign the 0th column of grains: width\n",
    "width = grains[:,0]\n",
    "\n",
    "# Assign the 1st column of grains: length\n",
    "length = grains[:,1]\n",
    "# Scatter plot width vs length\n",
    "plt.scatter(width, length)\n",
    "plt.axis('equal')\n",
    "plt.show()\n",
    "# Calculate the Pearson correlation\n",
    "correlation, pvalue = pearsonr(width, length)\n",
    "# Display the correlation\n",
    "print(correlation)"
   ]
  },
  {
   "cell_type": "code",
   "execution_count": 36,
   "metadata": {},
   "outputs": [
    {
     "data": {
      "image/png": "[encoded data removed]",
      "text/plain": [
       "<Figure size 432x288 with 1 Axes>"
      ]
     },
     "metadata": {
      "needs_background": "light"
     },
     "output_type": "display_data"
    },
    {
     "name": "stdout",
     "output_type": "stream",
     "text": [
      "1.744086609872376e-16\n"
     ]
    }
   ],
   "source": [
    "# Import PCA\n",
    "from sklearn.decomposition import PCA\n",
    "# Create PCA instance: model\n",
    "model = PCA()\n",
    "# Apply the fit_transform method of model to grains: pca_features\n",
    "pca_features = model.fit_transform(grains)\n",
    "# Assign 0th column of pca_features: xs\n",
    "xs = pca_features[:,0]\n",
    "# Assign 1st column of pca_features: ys\n",
    "ys = pca_features[:,1]\n",
    "# Scatter plot xs vs ys\n",
    "plt.scatter(xs, ys)\n",
    "plt.axis('equal')\n",
    "plt.show()\n",
    "# Calculate the Pearson correlation of xs and ys\n",
    "correlation, pvalue = pearsonr(xs, ys)\n",
    "# Display the correlation\n",
    "print(correlation)"
   ]
  },
  {
   "cell_type": "markdown",
   "metadata": {},
   "source": [
    "## Intrinsic Dimension"
   ]
  },
  {
   "cell_type": "markdown",
   "metadata": {},
   "source": [
    "### The first principal component"
   ]
  },
  {
   "cell_type": "code",
   "execution_count": 37,
   "metadata": {},
   "outputs": [],
   "source": [
    "# Import PCA\n",
    "from sklearn.decomposition import PCA"
   ]
  },
  {
   "cell_type": "markdown",
   "metadata": {},
   "source": [
    "La première composante principale des données est la direction dans laquelle les données varient le plus. Dans ce qui suit, notre travail consiste à utiliser PCA pour trouver la première composante principale des mesures de longueur et de largeur des échantillons de grain et la représenter sous forme de flèche sur le diagramme de dispersion."
   ]
  },
  {
   "cell_type": "code",
   "execution_count": 38,
   "metadata": {},
   "outputs": [
    {
     "data": {
      "text/plain": [
       "<matplotlib.collections.PathCollection at 0x21be46b1240>"
      ]
     },
     "execution_count": 38,
     "metadata": {},
     "output_type": "execute_result"
    },
    {
     "data": {
      "image/png": "[encoded data removed]",
      "text/plain": [
       "<Figure size 432x288 with 1 Axes>"
      ]
     },
     "metadata": {
      "needs_background": "light"
     },
     "output_type": "display_data"
    }
   ],
   "source": [
    "# Make a scatter plot of the untransformed points\n",
    "plt.scatter(grains[:,0], grains[:,1])"
   ]
  },
  {
   "cell_type": "code",
   "execution_count": 39,
   "metadata": {},
   "outputs": [
    {
     "data": {
      "image/png": "[encoded data removed]",
      "text/plain": [
       "<Figure size 432x288 with 1 Axes>"
      ]
     },
     "metadata": {
      "needs_background": "light"
     },
     "output_type": "display_data"
    }
   ],
   "source": [
    "# Make a scatter plot of the untransformed points\n",
    "plt.scatter(grains[:,0], grains[:,1])\n",
    "\n",
    "# Create a PCA instance: model\n",
    "model = PCA()\n",
    "\n",
    "# Fit model to points\n",
    "model.fit(grains)\n",
    "\n",
    "# Get the mean of the grain samples: mean\n",
    "mean = model.mean_\n",
    "\n",
    "# Get the first principal component: first_pc\n",
    "first_pc = model.components_[0,:]\n",
    "\n",
    "# Plot first_pc as an arrow, starting at mean\n",
    "plt.arrow(mean[0], mean[1], first_pc[0], first_pc[1], color='red', width=0.01)\n",
    "\n",
    "# Keep axes on same scale\n",
    "plt.axis('equal')\n",
    "plt.show()"
   ]
  },
  {
   "cell_type": "markdown",
   "metadata": {},
   "source": [
    "### Variance of the PCA features"
   ]
  },
  {
   "cell_type": "markdown",
   "metadata": {},
   "source": [
    "L'ensemble de données sur le poisson est en 6 dimensions. Mais quelle est sa dimension intrinsèque? Faites un graphique des variations des caractéristiques de la PCA pour le savoir. Comme précédemment, samples est un tableau 2D, où chaque ligne représente un poisson. Vous devrez d'abord normaliser les fonctionnalités."
   ]
  },
  {
   "cell_type": "code",
   "execution_count": 40,
   "metadata": {},
   "outputs": [
    {
     "data": {
      "image/png": "[encoded data removed]",
      "text/plain": [
       "<Figure size 432x288 with 1 Axes>"
      ]
     },
     "metadata": {
      "needs_background": "light"
     },
     "output_type": "display_data"
    }
   ],
   "source": [
    "# Perform the necessary imports\n",
    "from sklearn.decomposition import PCA\n",
    "from sklearn.preprocessing import StandardScaler\n",
    "from sklearn.pipeline import make_pipeline\n",
    "import matplotlib.pyplot as plt\n",
    "\n",
    "# Create scaler: scaler\n",
    "scaler = StandardScaler()\n",
    "\n",
    "# Create a PCA instance: pca\n",
    "pca = PCA()\n",
    "\n",
    "# Create pipeline: pipeline\n",
    "pipeline = make_pipeline(scaler, pca)\n",
    "\n",
    "# Fit the pipeline to 'samples'\n",
    "pipeline.fit(samples_fish)\n",
    "\n",
    "# Plot the explained variances\n",
    "features = range(pca.n_components_)\n",
    "plt.bar(features, pca.explained_variance_)\n",
    "plt.xlabel('PCA feature')\n",
    "plt.ylabel('variance')\n",
    "plt.xticks(features)\n",
    "plt.show()"
   ]
  },
  {
   "cell_type": "markdown",
   "metadata": {},
   "source": [
    "<div class=\"alert alert-block alert-success\" style=\"margin-top: 20px\">Il semble que les caractéristiques PCA 0 et 1 présentent une variance significative."
   ]
  },
  {
   "cell_type": "markdown",
   "metadata": {},
   "source": [
    "### Dimension reduction of the fish measurements"
   ]
  },
  {
   "cell_type": "markdown",
   "metadata": {},
   "source": [
    "Précédement, nous avons vu que 2 était un choix raisonnable pour la \"dimension intrinsèque\" des mesures de poisson. Utilisez maintenant PCA pour réduire la dimensionnalité des mesures de poisson, en ne retenant que les 2 composants les plus importants."
   ]
  },
  {
   "cell_type": "code",
   "execution_count": 41,
   "metadata": {},
   "outputs": [
    {
     "name": "stdout",
     "output_type": "stream",
     "text": [
      "(85, 2)\n"
     ]
    }
   ],
   "source": [
    "# Import PCA\n",
    "from sklearn.decomposition import PCA\n",
    "from sklearn.preprocessing import StandardScaler\n",
    "\n",
    "scaler = StandardScaler()\n",
    "scaled_samples = scaler.fit(samples_fish)\n",
    "scaled_samples = scaler.transform(samples_fish)\n",
    "\n",
    "# Create a PCA model with 2 components: pca\n",
    "pca = PCA(n_components=2)\n",
    "\n",
    "# Fit the PCA instance to the scaled samples\n",
    "pca.fit(scaled_samples)\n",
    "\n",
    "# Transform the scaled samples: pca_features\n",
    "pca_features = pca.transform(scaled_samples)\n",
    "\n",
    "# Print the shape of pca_features\n",
    "print(pca_features.shape)"
   ]
  },
  {
   "cell_type": "markdown",
   "metadata": {},
   "source": [
    "### A tf-idf word-frequency array"
   ]
  },
  {
   "cell_type": "markdown",
   "metadata": {},
   "source": [
    "Nous allons créer un tableau de fréquence de mots tf-idf pour une collection de documents miniature. Pour cela, utilisez le TfidfVectorizer de sklearn. Il transforme une liste de documents en un tableau de fréquence de mots, qu'il génère sous la forme d'un csr_matrix. Il a les méthodes fit () et transform () comme les autres objets sklearn."
   ]
  },
  {
   "cell_type": "code",
   "execution_count": 42,
   "metadata": {},
   "outputs": [],
   "source": [
    "documents = ['cats say meow', 'dogs say woof', 'dogs chase cats']"
   ]
  },
  {
   "cell_type": "code",
   "execution_count": 43,
   "metadata": {},
   "outputs": [
    {
     "name": "stdout",
     "output_type": "stream",
     "text": [
      "[[0.51785612 0.         0.         0.68091856 0.51785612 0.        ]\n",
      " [0.         0.         0.51785612 0.         0.51785612 0.68091856]\n",
      " [0.51785612 0.68091856 0.51785612 0.         0.         0.        ]]\n",
      " \n",
      "Le resultat: \n",
      " ['cats', 'chase', 'dogs', 'meow', 'say', 'woof']\n"
     ]
    }
   ],
   "source": [
    "# Import TfidfVectorizer\n",
    "from sklearn.feature_extraction.text import TfidfVectorizer\n",
    "\n",
    "# Create a TfidfVectorizer: tfidf\n",
    "tfidf = TfidfVectorizer()\n",
    "\n",
    "# Apply fit_transform to document: csr_mat\n",
    "csr_mat = tfidf.fit_transform(documents)\n",
    "\n",
    "# Print result of toarray() method\n",
    "print(csr_mat.toarray())\n",
    "\n",
    "#The columns of the array correspond to words. Get the list of words by calling the .get_feature_names() method of tfidf, and assign the result to words.\n",
    "\n",
    "# Get the words: words\n",
    "words = tfidf.get_feature_names()\n",
    "\n",
    "# Print words\n",
    "print(\" \\nLe resultat: \\n\",words)"
   ]
  },
  {
   "cell_type": "markdown",
   "metadata": {},
   "source": [
    "### Clustering Wikipedia"
   ]
  },
  {
   "cell_type": "markdown",
   "metadata": {},
   "source": [
    "TruncatedSVD est capable d'effectuer une analyse PCA sur des tableaux fragmentés au format csr_matrix, tels que des tableaux à fréquence de mots. Combinez vos connaissances de TruncatedSVD et de k-means pour regrouper certaines pages populaires de Wikipedia. Dans cet exercice, construisez le pipeline. Dans l’exercice suivant, vous l’appliquerez au tableau de fréquences de mots de certains articles de Wikipedia.\n",
    "\n",
    "Créez un objet Pipeline consistant en un TruncatedSVD suivi de KMeans."
   ]
  },
  {
   "cell_type": "code",
   "execution_count": 44,
   "metadata": {},
   "outputs": [],
   "source": [
    "# Perform the necessary imports\n",
    "from sklearn.decomposition import TruncatedSVD\n",
    "from sklearn.cluster import KMeans\n",
    "from sklearn.pipeline import make_pipeline\n",
    "\n",
    "# Create a TruncatedSVD instance: svd\n",
    "svd = TruncatedSVD(n_components=50)\n",
    "\n",
    "# Create a KMeans instance: kmeans\n",
    "kmeans = KMeans(n_clusters=6)\n",
    "\n",
    "# Create a pipeline: pipeline\n",
    "pipeline = make_pipeline(svd, kmeans)"
   ]
  },
  {
   "cell_type": "code",
   "execution_count": 45,
   "metadata": {},
   "outputs": [],
   "source": [
    "import pandas as pd\n",
    "from scipy.sparse import csr_matrix\n",
    "\n",
    "df = pd.read_csv('Wikipedia_articles/wikipedia-vectors.csv', index_col=0)\n",
    "articles = csr_matrix(df.transpose())\n",
    "titles = list(df.columns)"
   ]
  },
  {
   "cell_type": "code",
   "execution_count": 46,
   "metadata": {
    "scrolled": true
   },
   "outputs": [
    {
     "data": {
      "text/html": [
       "<div>\n",
       "<style scoped>\n",
       "    .dataframe tbody tr th:only-of-type {\n",
       "        vertical-align: middle;\n",
       "    }\n",
       "\n",
       "    .dataframe tbody tr th {\n",
       "        vertical-align: top;\n",
       "    }\n",
       "\n",
       "    .dataframe thead th {\n",
       "        text-align: right;\n",
       "    }\n",
       "</style>\n",
       "<table border=\"1\" class=\"dataframe\">\n",
       "  <thead>\n",
       "    <tr style=\"text-align: right;\">\n",
       "      <th></th>\n",
       "      <th>HTTP 404</th>\n",
       "      <th>Alexa Internet</th>\n",
       "      <th>Internet Explorer</th>\n",
       "      <th>HTTP cookie</th>\n",
       "      <th>Google Search</th>\n",
       "      <th>Tumblr</th>\n",
       "      <th>Hypertext Transfer Protocol</th>\n",
       "      <th>Social search</th>\n",
       "      <th>Firefox</th>\n",
       "      <th>LinkedIn</th>\n",
       "      <th>...</th>\n",
       "      <th>Chad Kroeger</th>\n",
       "      <th>Nate Ruess</th>\n",
       "      <th>The Wanted</th>\n",
       "      <th>Stevie Nicks</th>\n",
       "      <th>Arctic Monkeys</th>\n",
       "      <th>Black Sabbath</th>\n",
       "      <th>Skrillex</th>\n",
       "      <th>Red Hot Chili Peppers</th>\n",
       "      <th>Sepsis</th>\n",
       "      <th>Adam Levine</th>\n",
       "    </tr>\n",
       "  </thead>\n",
       "  <tbody>\n",
       "    <tr>\n",
       "      <th>0</th>\n",
       "      <td>0.0</td>\n",
       "      <td>0.000000</td>\n",
       "      <td>0.0</td>\n",
       "      <td>0.0</td>\n",
       "      <td>0.0</td>\n",
       "      <td>0.0</td>\n",
       "      <td>0.0</td>\n",
       "      <td>0.0</td>\n",
       "      <td>0.0</td>\n",
       "      <td>0.0</td>\n",
       "      <td>...</td>\n",
       "      <td>0.0</td>\n",
       "      <td>0.0</td>\n",
       "      <td>0.0</td>\n",
       "      <td>0.008878</td>\n",
       "      <td>0.0</td>\n",
       "      <td>0.0</td>\n",
       "      <td>0.049502</td>\n",
       "      <td>0.000000</td>\n",
       "      <td>0.00000</td>\n",
       "      <td>0.0</td>\n",
       "    </tr>\n",
       "    <tr>\n",
       "      <th>1</th>\n",
       "      <td>0.0</td>\n",
       "      <td>0.000000</td>\n",
       "      <td>0.0</td>\n",
       "      <td>0.0</td>\n",
       "      <td>0.0</td>\n",
       "      <td>0.0</td>\n",
       "      <td>0.0</td>\n",
       "      <td>0.0</td>\n",
       "      <td>0.0</td>\n",
       "      <td>0.0</td>\n",
       "      <td>...</td>\n",
       "      <td>0.0</td>\n",
       "      <td>0.0</td>\n",
       "      <td>0.0</td>\n",
       "      <td>0.000000</td>\n",
       "      <td>0.0</td>\n",
       "      <td>0.0</td>\n",
       "      <td>0.000000</td>\n",
       "      <td>0.000000</td>\n",
       "      <td>0.00611</td>\n",
       "      <td>0.0</td>\n",
       "    </tr>\n",
       "    <tr>\n",
       "      <th>2</th>\n",
       "      <td>0.0</td>\n",
       "      <td>0.029607</td>\n",
       "      <td>0.0</td>\n",
       "      <td>0.0</td>\n",
       "      <td>0.0</td>\n",
       "      <td>0.0</td>\n",
       "      <td>0.0</td>\n",
       "      <td>0.0</td>\n",
       "      <td>0.0</td>\n",
       "      <td>0.0</td>\n",
       "      <td>...</td>\n",
       "      <td>0.0</td>\n",
       "      <td>0.0</td>\n",
       "      <td>0.0</td>\n",
       "      <td>0.000000</td>\n",
       "      <td>0.0</td>\n",
       "      <td>0.0</td>\n",
       "      <td>0.000000</td>\n",
       "      <td>0.000000</td>\n",
       "      <td>0.00000</td>\n",
       "      <td>0.0</td>\n",
       "    </tr>\n",
       "    <tr>\n",
       "      <th>3</th>\n",
       "      <td>0.0</td>\n",
       "      <td>0.000000</td>\n",
       "      <td>0.0</td>\n",
       "      <td>0.0</td>\n",
       "      <td>0.0</td>\n",
       "      <td>0.0</td>\n",
       "      <td>0.0</td>\n",
       "      <td>0.0</td>\n",
       "      <td>0.0</td>\n",
       "      <td>0.0</td>\n",
       "      <td>...</td>\n",
       "      <td>0.0</td>\n",
       "      <td>0.0</td>\n",
       "      <td>0.0</td>\n",
       "      <td>0.000000</td>\n",
       "      <td>0.0</td>\n",
       "      <td>0.0</td>\n",
       "      <td>0.000000</td>\n",
       "      <td>0.005646</td>\n",
       "      <td>0.00000</td>\n",
       "      <td>0.0</td>\n",
       "    </tr>\n",
       "    <tr>\n",
       "      <th>4</th>\n",
       "      <td>0.0</td>\n",
       "      <td>0.000000</td>\n",
       "      <td>0.0</td>\n",
       "      <td>0.0</td>\n",
       "      <td>0.0</td>\n",
       "      <td>0.0</td>\n",
       "      <td>0.0</td>\n",
       "      <td>0.0</td>\n",
       "      <td>0.0</td>\n",
       "      <td>0.0</td>\n",
       "      <td>...</td>\n",
       "      <td>0.0</td>\n",
       "      <td>0.0</td>\n",
       "      <td>0.0</td>\n",
       "      <td>0.000000</td>\n",
       "      <td>0.0</td>\n",
       "      <td>0.0</td>\n",
       "      <td>0.000000</td>\n",
       "      <td>0.000000</td>\n",
       "      <td>0.00000</td>\n",
       "      <td>0.0</td>\n",
       "    </tr>\n",
       "  </tbody>\n",
       "</table>\n",
       "<p>5 rows × 60 columns</p>\n",
       "</div>"
      ],
      "text/plain": [
       "   HTTP 404  Alexa Internet  Internet Explorer  HTTP cookie  Google Search  \\\n",
       "0       0.0        0.000000                0.0          0.0            0.0   \n",
       "1       0.0        0.000000                0.0          0.0            0.0   \n",
       "2       0.0        0.029607                0.0          0.0            0.0   \n",
       "3       0.0        0.000000                0.0          0.0            0.0   \n",
       "4       0.0        0.000000                0.0          0.0            0.0   \n",
       "\n",
       "   Tumblr  Hypertext Transfer Protocol  Social search  Firefox  LinkedIn  \\\n",
       "0     0.0                          0.0            0.0      0.0       0.0   \n",
       "1     0.0                          0.0            0.0      0.0       0.0   \n",
       "2     0.0                          0.0            0.0      0.0       0.0   \n",
       "3     0.0                          0.0            0.0      0.0       0.0   \n",
       "4     0.0                          0.0            0.0      0.0       0.0   \n",
       "\n",
       "      ...       Chad Kroeger  Nate Ruess  The Wanted  Stevie Nicks  \\\n",
       "0     ...                0.0         0.0         0.0      0.008878   \n",
       "1     ...                0.0         0.0         0.0      0.000000   \n",
       "2     ...                0.0         0.0         0.0      0.000000   \n",
       "3     ...                0.0         0.0         0.0      0.000000   \n",
       "4     ...                0.0         0.0         0.0      0.000000   \n",
       "\n",
       "   Arctic Monkeys  Black Sabbath  Skrillex  Red Hot Chili Peppers   Sepsis  \\\n",
       "0             0.0            0.0  0.049502               0.000000  0.00000   \n",
       "1             0.0            0.0  0.000000               0.000000  0.00611   \n",
       "2             0.0            0.0  0.000000               0.000000  0.00000   \n",
       "3             0.0            0.0  0.000000               0.005646  0.00000   \n",
       "4             0.0            0.0  0.000000               0.000000  0.00000   \n",
       "\n",
       "   Adam Levine  \n",
       "0          0.0  \n",
       "1          0.0  \n",
       "2          0.0  \n",
       "3          0.0  \n",
       "4          0.0  \n",
       "\n",
       "[5 rows x 60 columns]"
      ]
     },
     "execution_count": 46,
     "metadata": {},
     "output_type": "execute_result"
    }
   ],
   "source": [
    "df.head()"
   ]
  },
  {
   "cell_type": "code",
   "execution_count": 47,
   "metadata": {},
   "outputs": [
    {
     "data": {
      "text/plain": [
       "['HTTP 404',\n",
       " 'Alexa Internet',\n",
       " 'Internet Explorer',\n",
       " 'HTTP cookie',\n",
       " 'Google Search',\n",
       " 'Tumblr',\n",
       " 'Hypertext Transfer Protocol',\n",
       " 'Social search',\n",
       " 'Firefox',\n",
       " 'LinkedIn',\n",
       " 'Global warming',\n",
       " 'Nationally Appropriate Mitigation Action',\n",
       " 'Nigel Lawson',\n",
       " 'Connie Hedegaard',\n",
       " 'Climate change',\n",
       " 'Kyoto Protocol',\n",
       " '350.org',\n",
       " 'Greenhouse gas emissions by the United States',\n",
       " '2010 United Nations Climate Change Conference',\n",
       " '2007 United Nations Climate Change Conference',\n",
       " 'Angelina Jolie',\n",
       " 'Michael Fassbender',\n",
       " 'Denzel Washington',\n",
       " 'Catherine Zeta-Jones',\n",
       " 'Jessica Biel',\n",
       " 'Russell Crowe',\n",
       " 'Mila Kunis',\n",
       " 'Dakota Fanning',\n",
       " 'Anne Hathaway',\n",
       " 'Jennifer Aniston',\n",
       " 'France national football team',\n",
       " 'Cristiano Ronaldo',\n",
       " 'Arsenal F.C.',\n",
       " 'Radamel Falcao',\n",
       " 'Zlatan Ibrahimović',\n",
       " 'Colombia national football team',\n",
       " '2014 FIFA World Cup qualification',\n",
       " 'Football',\n",
       " 'Neymar',\n",
       " 'Franck Ribéry',\n",
       " 'Tonsillitis',\n",
       " 'Hepatitis B',\n",
       " 'Doxycycline',\n",
       " 'Leukemia',\n",
       " 'Gout',\n",
       " 'Hepatitis C',\n",
       " 'Prednisone',\n",
       " 'Fever',\n",
       " 'Gabapentin',\n",
       " 'Lymphoma',\n",
       " 'Chad Kroeger',\n",
       " 'Nate Ruess',\n",
       " 'The Wanted',\n",
       " 'Stevie Nicks',\n",
       " 'Arctic Monkeys',\n",
       " 'Black Sabbath',\n",
       " 'Skrillex',\n",
       " 'Red Hot Chili Peppers',\n",
       " 'Sepsis',\n",
       " 'Adam Levine']"
      ]
     },
     "execution_count": 47,
     "metadata": {},
     "output_type": "execute_result"
    }
   ],
   "source": [
    "titles"
   ]
  },
  {
   "cell_type": "code",
   "execution_count": 48,
   "metadata": {},
   "outputs": [
    {
     "data": {
      "text/plain": [
       "<60x13125 sparse matrix of type '<class 'numpy.float64'>'\n",
       "\twith 42091 stored elements in Compressed Sparse Row format>"
      ]
     },
     "execution_count": 48,
     "metadata": {},
     "output_type": "execute_result"
    }
   ],
   "source": [
    "articles"
   ]
  },
  {
   "cell_type": "code",
   "execution_count": 49,
   "metadata": {},
   "outputs": [
    {
     "name": "stdout",
     "output_type": "stream",
     "text": [
      "                                          article  label\n",
      "0                                        HTTP 404      0\n",
      "8                                         Firefox      0\n",
      "7                                   Social search      0\n",
      "6                     Hypertext Transfer Protocol      0\n",
      "5                                          Tumblr      0\n",
      "9                                        LinkedIn      0\n",
      "3                                     HTTP cookie      0\n",
      "2                               Internet Explorer      0\n",
      "1                                  Alexa Internet      0\n",
      "4                                   Google Search      0\n",
      "50                                   Chad Kroeger      1\n",
      "57                          Red Hot Chili Peppers      1\n",
      "56                                       Skrillex      1\n",
      "55                                  Black Sabbath      1\n",
      "54                                 Arctic Monkeys      1\n",
      "53                                   Stevie Nicks      1\n",
      "52                                     The Wanted      1\n",
      "51                                     Nate Ruess      1\n",
      "58                                         Sepsis      1\n",
      "59                                    Adam Levine      1\n",
      "39                                  Franck Ribéry      2\n",
      "37                                       Football      2\n",
      "36              2014 FIFA World Cup qualification      2\n",
      "35                Colombia national football team      2\n",
      "34                             Zlatan Ibrahimović      2\n",
      "33                                 Radamel Falcao      2\n",
      "32                                   Arsenal F.C.      2\n",
      "31                              Cristiano Ronaldo      2\n",
      "30                  France national football team      2\n",
      "38                                         Neymar      2\n",
      "18  2010 United Nations Climate Change Conference      3\n",
      "16                                        350.org      3\n",
      "15                                 Kyoto Protocol      3\n",
      "14                                 Climate change      3\n",
      "13                               Connie Hedegaard      3\n",
      "12                                   Nigel Lawson      3\n",
      "11       Nationally Appropriate Mitigation Action      3\n",
      "10                                 Global warming      3\n",
      "17  Greenhouse gas emissions by the United States      3\n",
      "19  2007 United Nations Climate Change Conference      3\n",
      "20                                 Angelina Jolie      4\n",
      "28                                  Anne Hathaway      4\n",
      "21                             Michael Fassbender      4\n",
      "22                              Denzel Washington      4\n",
      "23                           Catherine Zeta-Jones      4\n",
      "24                                   Jessica Biel      4\n",
      "25                                  Russell Crowe      4\n",
      "26                                     Mila Kunis      4\n",
      "27                                 Dakota Fanning      4\n",
      "29                               Jennifer Aniston      4\n",
      "40                                    Tonsillitis      5\n",
      "48                                     Gabapentin      5\n",
      "47                                          Fever      5\n",
      "46                                     Prednisone      5\n",
      "45                                    Hepatitis C      5\n",
      "44                                           Gout      5\n",
      "43                                       Leukemia      5\n",
      "42                                    Doxycycline      5\n",
      "49                                       Lymphoma      5\n",
      "41                                    Hepatitis B      5\n"
     ]
    }
   ],
   "source": [
    "# Import pandas\n",
    "import pandas as pd\n",
    "\n",
    "# Fit the pipeline to articles\n",
    "pipeline.fit(articles)\n",
    "\n",
    "# Calculate the cluster labels: labels\n",
    "labels = pipeline.predict(articles)\n",
    "\n",
    "# Create a DataFrame aligning labels and titles: df\n",
    "df = pd.DataFrame({'label': labels, 'article': titles})\n",
    "\n",
    "# Display df sorted by cluster label\n",
    "print(df.sort_values('label'))"
   ]
  },
  {
   "cell_type": "markdown",
   "metadata": {},
   "source": [
    "# Discovering interpretable features"
   ]
  },
  {
   "cell_type": "markdown",
   "metadata": {},
   "source": [
    "## Discovering interpretable features"
   ]
  },
  {
   "cell_type": "markdown",
   "metadata": {},
   "source": [
    "### Non-negative matrix factorization (NMF)"
   ]
  },
  {
   "cell_type": "markdown",
   "metadata": {},
   "source": [
    "NMF est une technique pour réduire les caratéristiques et garder que ceux qui caractérisent notre modèle. C'est une technique similaire à PCA mais elle ne prend pas en charge les valeurs negatives et lors de la definition du modèle il faut préciser le nombre de composants qu'on veut garder à la fin. "
   ]
  },
  {
   "cell_type": "markdown",
   "metadata": {},
   "source": [
    "### NMF applied to Wikipedia articles"
   ]
  },
  {
   "cell_type": "code",
   "execution_count": 50,
   "metadata": {},
   "outputs": [
    {
     "name": "stdout",
     "output_type": "stream",
     "text": [
      "[[0.00000000e+00 0.00000000e+00 0.00000000e+00 0.00000000e+00\n",
      "  0.00000000e+00 4.40417739e-01]\n",
      " [0.00000000e+00 0.00000000e+00 0.00000000e+00 0.00000000e+00\n",
      "  0.00000000e+00 5.66543310e-01]\n",
      " [3.82020124e-03 0.00000000e+00 0.00000000e+00 0.00000000e+00\n",
      "  0.00000000e+00 3.98603449e-01]\n",
      " [0.00000000e+00 0.00000000e+00 0.00000000e+00 0.00000000e+00\n",
      "  0.00000000e+00 3.81698582e-01]\n",
      " [0.00000000e+00 0.00000000e+00 0.00000000e+00 0.00000000e+00\n",
      "  0.00000000e+00 4.85464182e-01]\n",
      " [1.29278218e-02 1.37896202e-02 7.76357450e-03 3.34422074e-02\n",
      "  0.00000000e+00 3.34485594e-01]\n",
      " [0.00000000e+00 0.00000000e+00 2.06750199e-02 0.00000000e+00\n",
      "  6.04409219e-03 3.59022341e-01]\n",
      " [0.00000000e+00 0.00000000e+00 0.00000000e+00 0.00000000e+00\n",
      "  0.00000000e+00 4.90923166e-01]\n",
      " [1.54259376e-02 1.42824273e-02 3.76648714e-03 2.37065591e-02\n",
      "  2.62586925e-02 4.80722440e-01]\n",
      " [1.11727709e-02 3.13692720e-02 3.09498200e-02 6.56872570e-02\n",
      "  1.96652850e-02 3.38252025e-01]\n",
      " [0.00000000e+00 0.00000000e+00 5.30740619e-01 0.00000000e+00\n",
      "  2.83644369e-02 0.00000000e+00]\n",
      " [0.00000000e+00 0.00000000e+00 3.56523538e-01 0.00000000e+00\n",
      "  0.00000000e+00 0.00000000e+00]\n",
      " [1.20115837e-02 6.50066360e-03 3.12257715e-01 6.09652531e-02\n",
      "  1.13847255e-02 1.92581516e-02]\n",
      " [3.93448331e-03 6.24463790e-03 3.42386925e-01 1.10747471e-02\n",
      "  0.00000000e+00 0.00000000e+00]\n",
      " [4.63777529e-03 0.00000000e+00 4.34932413e-01 0.00000000e+00\n",
      "  3.84227483e-02 3.08099983e-03]\n",
      " [0.00000000e+00 0.00000000e+00 4.83308392e-01 0.00000000e+00\n",
      "  0.00000000e+00 0.00000000e+00]\n",
      " [5.64962999e-03 1.83541750e-02 3.76548029e-01 3.25397806e-02\n",
      "  0.00000000e+00 1.13322225e-02]\n",
      " [0.00000000e+00 0.00000000e+00 4.80932968e-01 0.00000000e+00\n",
      "  0.00000000e+00 0.00000000e+00]\n",
      " [0.00000000e+00 9.01895062e-03 5.51029921e-01 0.00000000e+00\n",
      "  0.00000000e+00 0.00000000e+00]\n",
      " [0.00000000e+00 0.00000000e+00 4.65988224e-01 0.00000000e+00\n",
      "  0.00000000e+00 0.00000000e+00]\n",
      " [0.00000000e+00 1.14084593e-02 2.08663979e-02 5.17666887e-01\n",
      "  5.81336466e-02 1.37839094e-02]\n",
      " [0.00000000e+00 0.00000000e+00 0.00000000e+00 5.10376252e-01\n",
      "  0.00000000e+00 0.00000000e+00]\n",
      " [0.00000000e+00 5.60122086e-03 0.00000000e+00 4.22297924e-01\n",
      "  0.00000000e+00 0.00000000e+00]\n",
      " [0.00000000e+00 0.00000000e+00 0.00000000e+00 4.36666526e-01\n",
      "  0.00000000e+00 0.00000000e+00]\n",
      " [0.00000000e+00 0.00000000e+00 0.00000000e+00 4.97995414e-01\n",
      "  0.00000000e+00 0.00000000e+00]\n",
      " [9.88300184e-02 8.60072828e-02 3.91051217e-03 3.80943655e-01\n",
      "  4.39187490e-04 5.22096132e-03]\n",
      " [0.00000000e+00 0.00000000e+00 0.00000000e+00 5.72058895e-01\n",
      "  0.00000000e+00 7.13466541e-03]\n",
      " [1.31456066e-02 1.04856782e-02 0.00000000e+00 4.68815105e-01\n",
      "  0.00000000e+00 1.16297431e-02]\n",
      " [3.84510162e-03 0.00000000e+00 0.00000000e+00 5.75598888e-01\n",
      "  0.00000000e+00 0.00000000e+00]\n",
      " [2.25220823e-03 1.38740076e-03 0.00000000e+00 5.27843371e-01\n",
      "  1.20249776e-02 1.49467927e-02]\n",
      " [0.00000000e+00 4.07561682e-01 1.85722120e-03 0.00000000e+00\n",
      "  2.96573988e-03 4.52294202e-04]\n",
      " [1.53406862e-03 6.08193187e-01 5.22299939e-04 6.24732677e-03\n",
      "  1.18430104e-03 4.40026768e-04]\n",
      " [5.38767991e-03 2.65025823e-01 5.38532132e-04 1.86889844e-02\n",
      "  6.38572282e-03 2.90073629e-03]\n",
      " [0.00000000e+00 6.44937272e-01 0.00000000e+00 0.00000000e+00\n",
      "  0.00000000e+00 0.00000000e+00]\n",
      " [0.00000000e+00 6.08927149e-01 0.00000000e+00 0.00000000e+00\n",
      "  0.00000000e+00 0.00000000e+00]\n",
      " [0.00000000e+00 3.43696641e-01 0.00000000e+00 0.00000000e+00\n",
      "  3.97745818e-03 0.00000000e+00]\n",
      " [6.10451295e-03 3.15323269e-01 1.54886198e-02 0.00000000e+00\n",
      "  5.06181996e-03 4.74284186e-03]\n",
      " [6.47310408e-03 2.13335605e-01 9.49533351e-03 4.56892853e-02\n",
      "  1.71893256e-02 9.51961566e-03]\n",
      " [7.99071506e-03 4.67610657e-01 0.00000000e+00 2.43378280e-02\n",
      "  0.00000000e+00 0.00000000e+00]\n",
      " [0.00000000e+00 6.42841409e-01 0.00000000e+00 2.35810500e-03\n",
      "  0.00000000e+00 0.00000000e+00]\n",
      " [0.00000000e+00 0.00000000e+00 0.00000000e+00 0.00000000e+00\n",
      "  4.77021052e-01 0.00000000e+00]\n",
      " [0.00000000e+00 0.00000000e+00 0.00000000e+00 0.00000000e+00\n",
      "  4.94192003e-01 0.00000000e+00]\n",
      " [0.00000000e+00 2.99075944e-04 2.14496288e-03 0.00000000e+00\n",
      "  3.81729098e-01 5.83718847e-03]\n",
      " [0.00000000e+00 0.00000000e+00 0.00000000e+00 5.64583214e-03\n",
      "  5.42171084e-01 0.00000000e+00]\n",
      " [1.78042628e-03 7.84438399e-04 1.41633609e-02 4.59725024e-04\n",
      "  4.24247355e-01 0.00000000e+00]\n",
      " [0.00000000e+00 0.00000000e+00 0.00000000e+00 0.00000000e+00\n",
      "  5.11325495e-01 0.00000000e+00]\n",
      " [0.00000000e+00 0.00000000e+00 3.28399276e-03 0.00000000e+00\n",
      "  3.72838429e-01 0.00000000e+00]\n",
      " [0.00000000e+00 2.62092359e-04 3.61118958e-02 2.32290613e-04\n",
      "  2.30480822e-01 0.00000000e+00]\n",
      " [1.12507006e-02 2.12334354e-03 1.60978979e-02 1.02464925e-02\n",
      "  3.25419336e-01 3.75840229e-02]\n",
      " [0.00000000e+00 0.00000000e+00 0.00000000e+00 0.00000000e+00\n",
      "  4.18903879e-01 3.57662291e-04]\n",
      " [3.08344281e-01 0.00000000e+00 0.00000000e+00 0.00000000e+00\n",
      "  0.00000000e+00 0.00000000e+00]\n",
      " [3.68146737e-01 0.00000000e+00 0.00000000e+00 0.00000000e+00\n",
      "  0.00000000e+00 0.00000000e+00]\n",
      " [3.97915541e-01 2.81712475e-02 3.67026991e-03 1.70033960e-02\n",
      "  1.95942430e-03 2.11621662e-02]\n",
      " [3.75766918e-01 2.07527925e-03 0.00000000e+00 3.72082309e-02\n",
      "  0.00000000e+00 5.85865124e-03]\n",
      " [4.37995944e-01 0.00000000e+00 0.00000000e+00 0.00000000e+00\n",
      "  0.00000000e+00 0.00000000e+00]\n",
      " [4.57847297e-01 0.00000000e+00 0.00000000e+00 0.00000000e+00\n",
      "  0.00000000e+00 0.00000000e+00]\n",
      " [2.75456922e-01 4.46971586e-03 0.00000000e+00 5.29552951e-02\n",
      "  0.00000000e+00 1.90977195e-02]\n",
      " [4.45161138e-01 0.00000000e+00 0.00000000e+00 0.00000000e+00\n",
      "  5.48628222e-03 0.00000000e+00]\n",
      " [2.92718828e-01 1.33669285e-02 1.14268040e-02 1.05179677e-02\n",
      "  1.87672145e-01 9.23865827e-03]\n",
      " [3.78238618e-01 1.43975060e-02 0.00000000e+00 9.85048583e-02\n",
      "  1.35882873e-02 0.00000000e+00]]\n"
     ]
    }
   ],
   "source": [
    "# Import NMF\n",
    "from sklearn.decomposition import NMF\n",
    "\n",
    "# Create an NMF instance: model\n",
    "model = NMF(n_components=6)\n",
    "\n",
    "# Fit the model to articles\n",
    "model.fit(articles)\n",
    "\n",
    "# Transform the articles: nmf_features\n",
    "nmf_features = model.transform(articles)\n",
    "\n",
    "# Print the NMF features\n",
    "print(nmf_features)"
   ]
  },
  {
   "cell_type": "code",
   "execution_count": 52,
   "metadata": {},
   "outputs": [
    {
     "name": "stdout",
     "output_type": "stream",
     "text": [
      "0    0.003845\n",
      "1    0.000000\n",
      "2    0.000000\n",
      "3    0.575599\n",
      "4    0.000000\n",
      "5    0.000000\n",
      "Name: Anne Hathaway, dtype: float64\n",
      "0    0.000000\n",
      "1    0.005601\n",
      "2    0.000000\n",
      "3    0.422298\n",
      "4    0.000000\n",
      "5    0.000000\n",
      "Name: Denzel Washington, dtype: float64\n"
     ]
    }
   ],
   "source": [
    "# Import pandas\n",
    "import pandas as pd\n",
    "\n",
    "# Create a pandas DataFrame: df\n",
    "df = pd.DataFrame(nmf_features, index=titles)\n",
    "\n",
    "# Print the row for 'Anne Hathaway'\n",
    "print(df.loc['Anne Hathaway'])\n",
    "\n",
    "# Print the row for 'Denzel Washington'\n",
    "print(df.loc['Denzel Washington'])"
   ]
  },
  {
   "cell_type": "markdown",
   "metadata": {},
   "source": [
    "**Rq**: \n",
    "Lorsque vous examinez les caractéristiques, notez que pour les deux acteurs, la caractéristique 3 de NMF a de loin la valeur la plus élevée. Cela signifie que les deux articles sont reconstruits en utilisant principalement le 3ème composant NMF. Dans la vidéo suivante, vous verrez pourquoi: les composants NMF représentent des sujets (par exemple, jouer!)."
   ]
  },
  {
   "cell_type": "markdown",
   "metadata": {},
   "source": [
    "### NMF learns topics of documents"
   ]
  },
  {
   "cell_type": "markdown",
   "metadata": {},
   "source": [
    "Quand NMF est appliqué à des documents, que les composants correspondaient à des rubriques de documents et que les fonctionnalités de NMF reconstruisaient les documents à partir des rubriques. Vérifiez cela pour vous-même pour le modèle NMF que vous avez construit précédemment à l'aide des articles de Wikipedia. Auparavant, vous avez constaté que les articles sur les acteurs Anne Hathaway et Denzel Washington présentaient une valeur élevée pour les fonctionnalités du 3ème NMF. Dans cet exercice, identifiez le sujet du composant NMF correspondant.\n",
    "\n",
    "Le modèle NMF que vous avez créé précédemment est disponible en tant que modèle, tandis que words est une liste de mots qui étiquettent les colonnes du tableau de fréquences de mots.\n",
    "\n",
    "Une fois que vous avez terminé, prenez un moment pour reconnaître le sujet que les articles sur Anne Hathaway et Denzel Washington ont en commun!"
   ]
  },
  {
   "cell_type": "markdown",
   "metadata": {},
   "source": [
    " **Don't RUN THIS CELL AS WE DON'T HAVE THE LIST WORDS**"
   ]
  },
  {
   "cell_type": "code",
   "execution_count": null,
   "metadata": {},
   "outputs": [],
   "source": [
    "# Import pandas\n",
    "import pandas as pd\n",
    "\n",
    "# Create a DataFrame: components_df\n",
    "components_df = pd.DataFrame(model.components_, columns=words )\n",
    "\n",
    "# Print the shape of the DataFrame\n",
    "print(components_df.shape)\n",
    "\n",
    "# Select row 3: component\n",
    "component = components_df.iloc[3]\n",
    "\n",
    "# Print result of nlargest.This gives the five words with the  highest values for that component.\n",
    "print(component.nlargest())"
   ]
  },
  {
   "cell_type": "markdown",
   "metadata": {},
   "source": [
    "## Explore the LED digits dataset"
   ]
  },
  {
   "cell_type": "markdown",
   "metadata": {},
   "source": [
    "NMF était appliqué à des documents, que les composants correspondaient à des rubriques de documents et que les fonctionnalités de NMF reconstruisaient les documents à partir des rubriques. Vérifiez cela pour vous-même pour le modèle NMF que vous avez construit précédemment à l'aide des articles de Wikipedia. Auparavant, vous avez constaté que les articles sur les acteurs Anne Hathaway et Denzel Washington présentaient une valeur élevée pour les fonctionnalités du 3ème NMF. Dans cet exercice, identifiez le sujet du composant NMF correspondant.\n",
    "\n",
    "Le modèle NMF que vous avez créé précédemment est disponible en tant que modèle, tandis que words est une liste de mots qui étiquettent les colonnes du tableau de fréquences de mots.\n",
    "\n",
    "Une fois que vous avez terminé, prenez un moment pour reconnaître le sujet que les articles sur Anne Hathaway et Denzel Washington ont en commun!"
   ]
  },
  {
   "cell_type": "code",
   "execution_count": 54,
   "metadata": {},
   "outputs": [],
   "source": [
    "samples_lcd = pd.read_csv('lcd-digits.csv',  header=None)"
   ]
  },
  {
   "cell_type": "code",
   "execution_count": 55,
   "metadata": {},
   "outputs": [
    {
     "data": {
      "text/html": [
       "<div>\n",
       "<style scoped>\n",
       "    .dataframe tbody tr th:only-of-type {\n",
       "        vertical-align: middle;\n",
       "    }\n",
       "\n",
       "    .dataframe tbody tr th {\n",
       "        vertical-align: top;\n",
       "    }\n",
       "\n",
       "    .dataframe thead th {\n",
       "        text-align: right;\n",
       "    }\n",
       "</style>\n",
       "<table border=\"1\" class=\"dataframe\">\n",
       "  <thead>\n",
       "    <tr style=\"text-align: right;\">\n",
       "      <th></th>\n",
       "      <th>0</th>\n",
       "      <th>1</th>\n",
       "      <th>2</th>\n",
       "      <th>3</th>\n",
       "      <th>4</th>\n",
       "      <th>5</th>\n",
       "      <th>6</th>\n",
       "      <th>7</th>\n",
       "      <th>8</th>\n",
       "      <th>9</th>\n",
       "      <th>...</th>\n",
       "      <th>94</th>\n",
       "      <th>95</th>\n",
       "      <th>96</th>\n",
       "      <th>97</th>\n",
       "      <th>98</th>\n",
       "      <th>99</th>\n",
       "      <th>100</th>\n",
       "      <th>101</th>\n",
       "      <th>102</th>\n",
       "      <th>103</th>\n",
       "    </tr>\n",
       "  </thead>\n",
       "  <tbody>\n",
       "    <tr>\n",
       "      <th>0</th>\n",
       "      <td>0.0</td>\n",
       "      <td>0.0</td>\n",
       "      <td>0.0</td>\n",
       "      <td>0.0</td>\n",
       "      <td>0.0</td>\n",
       "      <td>0.0</td>\n",
       "      <td>0.0</td>\n",
       "      <td>0.0</td>\n",
       "      <td>0.0</td>\n",
       "      <td>0.0</td>\n",
       "      <td>...</td>\n",
       "      <td>0.0</td>\n",
       "      <td>0.0</td>\n",
       "      <td>0.0</td>\n",
       "      <td>0.0</td>\n",
       "      <td>0.0</td>\n",
       "      <td>0.0</td>\n",
       "      <td>0.0</td>\n",
       "      <td>0.0</td>\n",
       "      <td>0.0</td>\n",
       "      <td>0.0</td>\n",
       "    </tr>\n",
       "    <tr>\n",
       "      <th>1</th>\n",
       "      <td>0.0</td>\n",
       "      <td>0.0</td>\n",
       "      <td>0.0</td>\n",
       "      <td>0.0</td>\n",
       "      <td>0.0</td>\n",
       "      <td>0.0</td>\n",
       "      <td>0.0</td>\n",
       "      <td>0.0</td>\n",
       "      <td>0.0</td>\n",
       "      <td>0.0</td>\n",
       "      <td>...</td>\n",
       "      <td>0.0</td>\n",
       "      <td>0.0</td>\n",
       "      <td>0.0</td>\n",
       "      <td>0.0</td>\n",
       "      <td>0.0</td>\n",
       "      <td>0.0</td>\n",
       "      <td>0.0</td>\n",
       "      <td>0.0</td>\n",
       "      <td>0.0</td>\n",
       "      <td>0.0</td>\n",
       "    </tr>\n",
       "    <tr>\n",
       "      <th>2</th>\n",
       "      <td>0.0</td>\n",
       "      <td>0.0</td>\n",
       "      <td>0.0</td>\n",
       "      <td>0.0</td>\n",
       "      <td>0.0</td>\n",
       "      <td>0.0</td>\n",
       "      <td>0.0</td>\n",
       "      <td>0.0</td>\n",
       "      <td>0.0</td>\n",
       "      <td>0.0</td>\n",
       "      <td>...</td>\n",
       "      <td>0.0</td>\n",
       "      <td>0.0</td>\n",
       "      <td>0.0</td>\n",
       "      <td>0.0</td>\n",
       "      <td>0.0</td>\n",
       "      <td>0.0</td>\n",
       "      <td>0.0</td>\n",
       "      <td>0.0</td>\n",
       "      <td>0.0</td>\n",
       "      <td>0.0</td>\n",
       "    </tr>\n",
       "    <tr>\n",
       "      <th>3</th>\n",
       "      <td>0.0</td>\n",
       "      <td>0.0</td>\n",
       "      <td>0.0</td>\n",
       "      <td>0.0</td>\n",
       "      <td>0.0</td>\n",
       "      <td>0.0</td>\n",
       "      <td>0.0</td>\n",
       "      <td>0.0</td>\n",
       "      <td>0.0</td>\n",
       "      <td>0.0</td>\n",
       "      <td>...</td>\n",
       "      <td>0.0</td>\n",
       "      <td>0.0</td>\n",
       "      <td>0.0</td>\n",
       "      <td>0.0</td>\n",
       "      <td>0.0</td>\n",
       "      <td>0.0</td>\n",
       "      <td>0.0</td>\n",
       "      <td>0.0</td>\n",
       "      <td>0.0</td>\n",
       "      <td>0.0</td>\n",
       "    </tr>\n",
       "    <tr>\n",
       "      <th>4</th>\n",
       "      <td>0.0</td>\n",
       "      <td>0.0</td>\n",
       "      <td>0.0</td>\n",
       "      <td>0.0</td>\n",
       "      <td>0.0</td>\n",
       "      <td>0.0</td>\n",
       "      <td>0.0</td>\n",
       "      <td>0.0</td>\n",
       "      <td>0.0</td>\n",
       "      <td>0.0</td>\n",
       "      <td>...</td>\n",
       "      <td>0.0</td>\n",
       "      <td>0.0</td>\n",
       "      <td>0.0</td>\n",
       "      <td>0.0</td>\n",
       "      <td>0.0</td>\n",
       "      <td>0.0</td>\n",
       "      <td>0.0</td>\n",
       "      <td>0.0</td>\n",
       "      <td>0.0</td>\n",
       "      <td>0.0</td>\n",
       "    </tr>\n",
       "  </tbody>\n",
       "</table>\n",
       "<p>5 rows × 104 columns</p>\n",
       "</div>"
      ],
      "text/plain": [
       "   0    1    2    3    4    5    6    7    8    9   ...   94   95   96   97   \\\n",
       "0  0.0  0.0  0.0  0.0  0.0  0.0  0.0  0.0  0.0  0.0 ...   0.0  0.0  0.0  0.0   \n",
       "1  0.0  0.0  0.0  0.0  0.0  0.0  0.0  0.0  0.0  0.0 ...   0.0  0.0  0.0  0.0   \n",
       "2  0.0  0.0  0.0  0.0  0.0  0.0  0.0  0.0  0.0  0.0 ...   0.0  0.0  0.0  0.0   \n",
       "3  0.0  0.0  0.0  0.0  0.0  0.0  0.0  0.0  0.0  0.0 ...   0.0  0.0  0.0  0.0   \n",
       "4  0.0  0.0  0.0  0.0  0.0  0.0  0.0  0.0  0.0  0.0 ...   0.0  0.0  0.0  0.0   \n",
       "\n",
       "   98   99   100  101  102  103  \n",
       "0  0.0  0.0  0.0  0.0  0.0  0.0  \n",
       "1  0.0  0.0  0.0  0.0  0.0  0.0  \n",
       "2  0.0  0.0  0.0  0.0  0.0  0.0  \n",
       "3  0.0  0.0  0.0  0.0  0.0  0.0  \n",
       "4  0.0  0.0  0.0  0.0  0.0  0.0  \n",
       "\n",
       "[5 rows x 104 columns]"
      ]
     },
     "execution_count": 55,
     "metadata": {},
     "output_type": "execute_result"
    }
   ],
   "source": [
    "samples_lcd.head()"
   ]
  },
  {
   "cell_type": "code",
   "execution_count": 57,
   "metadata": {},
   "outputs": [],
   "source": [
    "samples_lcd = samples_lcd.values"
   ]
  },
  {
   "cell_type": "code",
   "execution_count": 58,
   "metadata": {},
   "outputs": [
    {
     "name": "stdout",
     "output_type": "stream",
     "text": [
      "[0. 0. 0. 0. 0. 0. 0. 0. 0. 0. 1. 1. 1. 1. 0. 0. 0. 0. 0. 0. 0. 0. 1. 0.\n",
      " 0. 0. 0. 0. 0. 0. 1. 0. 0. 0. 0. 0. 0. 0. 1. 0. 0. 0. 0. 0. 0. 0. 1. 0.\n",
      " 0. 0. 0. 0. 0. 0. 0. 0. 0. 0. 0. 0. 0. 0. 1. 0. 0. 0. 0. 0. 0. 0. 1. 0.\n",
      " 0. 0. 0. 0. 0. 0. 1. 0. 0. 0. 0. 0. 0. 0. 1. 0. 0. 0. 0. 0. 0. 0. 0. 0.\n",
      " 0. 0. 0. 0. 0. 0. 0. 0.]\n",
      "[[0. 0. 0. 0. 0. 0. 0. 0.]\n",
      " [0. 0. 1. 1. 1. 1. 0. 0.]\n",
      " [0. 0. 0. 0. 0. 0. 1. 0.]\n",
      " [0. 0. 0. 0. 0. 0. 1. 0.]\n",
      " [0. 0. 0. 0. 0. 0. 1. 0.]\n",
      " [0. 0. 0. 0. 0. 0. 1. 0.]\n",
      " [0. 0. 0. 0. 0. 0. 0. 0.]\n",
      " [0. 0. 0. 0. 0. 0. 1. 0.]\n",
      " [0. 0. 0. 0. 0. 0. 1. 0.]\n",
      " [0. 0. 0. 0. 0. 0. 1. 0.]\n",
      " [0. 0. 0. 0. 0. 0. 1. 0.]\n",
      " [0. 0. 0. 0. 0. 0. 0. 0.]\n",
      " [0. 0. 0. 0. 0. 0. 0. 0.]]\n"
     ]
    },
    {
     "data": {
      "image/png": "[encoded data removed]",
      "text/plain": [
       "<Figure size 432x288 with 2 Axes>"
      ]
     },
     "metadata": {
      "needs_background": "light"
     },
     "output_type": "display_data"
    }
   ],
   "source": [
    "# Import pyplot\n",
    "from matplotlib import pyplot as plt\n",
    "\n",
    "# Select the 0th row: digit\n",
    "digit = samples_lcd[0,:]\n",
    "\n",
    "# Print digit\n",
    "print(digit)\n",
    "\n",
    "# Reshape digit to a 13x8 array: bitmap\n",
    "bitmap = digit.reshape(13, 8)\n",
    "\n",
    "# Print bitmap\n",
    "print(bitmap)\n",
    "\n",
    "# Use plt.imshow to display bitmap\n",
    "plt.imshow(bitmap, cmap='gray', interpolation='nearest')\n",
    "plt.colorbar()\n",
    "plt.show()"
   ]
  },
  {
   "cell_type": "markdown",
   "metadata": {},
   "source": [
    "### NMF learns the parts of images"
   ]
  },
  {
   "cell_type": "markdown",
   "metadata": {},
   "source": [
    "Utilisez maintenant ce que vous avez appris sur NMF pour décomposer le jeu de données digits. Vous recevez à nouveau les images numériques sous forme d'échantillons de tableau 2D. Cette fois, vous disposez également d’une fonction show_as_image () qui affiche l’image encodée par n’importe quel tableau 1D:"
   ]
  },
  {
   "cell_type": "code",
   "execution_count": 59,
   "metadata": {},
   "outputs": [],
   "source": [
    "def show_as_image(sample):\n",
    "    bitmap = sample.reshape((13, 8))\n",
    "    plt.figure()\n",
    "    plt.imshow(bitmap, cmap='gray', interpolation='nearest')\n",
    "    plt.colorbar()\n",
    "    plt.show()"
   ]
  },
  {
   "cell_type": "markdown",
   "metadata": {},
   "source": [
    "Une fois que vous avez terminé, prenez un moment pour parcourir les graphiques et notez comment NMF a exprimé le chiffre en tant que somme des composants!"
   ]
  },
  {
   "cell_type": "code",
   "execution_count": 60,
   "metadata": {},
   "outputs": [
    {
     "data": {
      "image/png": "[encoded data removed]",
      "text/plain": [
       "<Figure size 432x288 with 2 Axes>"
      ]
     },
     "metadata": {
      "needs_background": "light"
     },
     "output_type": "display_data"
    },
    {
     "data": {
      "image/png": "[encoded data removed]",
      "text/plain": [
       "<Figure size 432x288 with 2 Axes>"
      ]
     },
     "metadata": {
      "needs_background": "light"
     },
     "output_type": "display_data"
    },
    {
     "data": {
      "image/png": "[encoded data removed]",
      "text/plain": [
       "<Figure size 432x288 with 2 Axes>"
      ]
     },
     "metadata": {
      "needs_background": "light"
     },
     "output_type": "display_data"
    },
    {
     "data": {
      "image/png": "[encoded data removed]",
      "text/plain": [
       "<Figure size 432x288 with 2 Axes>"
      ]
     },
     "metadata": {
      "needs_background": "light"
     },
     "output_type": "display_data"
    },
    {
     "data": {
      "image/png": "[encoded data removed]",
      "text/plain": [
       "<Figure size 432x288 with 2 Axes>"
      ]
     },
     "metadata": {
      "needs_background": "light"
     },
     "output_type": "display_data"
    },
    {
     "data": {
      "image/png": "[encoded data removed]",
      "text/plain": [
       "<Figure size 432x288 with 2 Axes>"
      ]
     },
     "metadata": {
      "needs_background": "light"
     },
     "output_type": "display_data"
    },
    {
     "data": {
      "image/png": "[encoded data removed]",
      "text/plain": [
       "<Figure size 432x288 with 2 Axes>"
      ]
     },
     "metadata": {
      "needs_background": "light"
     },
     "output_type": "display_data"
    },
    {
     "name": "stdout",
     "output_type": "stream",
     "text": [
      "[4.76823559e-01 0.00000000e+00 0.00000000e+00 5.90605054e-01\n",
      " 4.81559442e-01 0.00000000e+00 7.37551667e-16]\n"
     ]
    }
   ],
   "source": [
    "# Import NMF\n",
    "from sklearn.decomposition import NMF\n",
    "\n",
    "# Create an NMF model: model\n",
    "# 7 is the number of cells in an LED display\n",
    "model = NMF(n_components=7)\n",
    "\n",
    "# Apply fit_transform to samples: features\n",
    "features = model.fit_transform(samples_lcd)\n",
    "\n",
    "# Call show_as_image on each component\n",
    "for component in model.components_:\n",
    "    show_as_image(component)\n",
    "\n",
    "# Assign the 0th row of features: digit_features\n",
    "digit_features = features[0,:]\n",
    "\n",
    "# Print digit_features\n",
    "print(digit_features)"
   ]
  },
  {
   "cell_type": "markdown",
   "metadata": {},
   "source": [
    "### PCA doesn't learn parts"
   ]
  },
  {
   "cell_type": "markdown",
   "metadata": {},
   "source": [
    "Contrairement à NMF, la PCA n’apprend pas les choses. Ses composants ne correspondent pas à des sujets (dans le cas de documents) ou à des parties d’images, lorsqu’ils sont formés aux images. Vérifiez-le vous-même en inspectant les composants d'un modèle PCA ajusté au jeu de données des images à chiffres LED de l'exercice précédent. Les images sont disponibles sous forme d'échantillons de tableau 2D. Une version modifiée de la fonction show_as_image () qui colore un pixel en rouge si la valeur est négative est également disponible.\n",
    "\n",
    "Après avoir envoyé la réponse, notez que les composants de PCA ne représentent pas des parties significatives d’images de chiffres à LED!"
   ]
  },
  {
   "cell_type": "markdown",
   "metadata": {},
   "source": [
    "**NB** : Code used to retrieve the content of show_as_image()\n",
    "> import inspect  \n",
    "\n",
    "> source_DF = inspect.getsource(pandas.DataFrame)  \n",
    "\n",
    "> print(source_DF)  \n"
   ]
  },
  {
   "cell_type": "code",
   "execution_count": 61,
   "metadata": {},
   "outputs": [],
   "source": [
    "def show_as_image(vector):\n",
    "    \"\"\"\n",
    "    Given a 1d vector representing an image, display that image in \n",
    "    black and white.  If there are negative values, then use red for \n",
    "    that pixel.\n",
    "    \"\"\"\n",
    "    bitmap = vector.reshape((13, 8))  # make a square array\n",
    "    bitmap /= np.abs(vector).max()  # normalise\n",
    "    bitmap = bitmap[:,:,np.newaxis]\n",
    "    rgb_layers = [np.abs(bitmap)] + [bitmap.clip(0)] * 2\n",
    "    rgb_bitmap = np.concatenate(rgb_layers, axis=-1)\n",
    "    plt.imshow(rgb_bitmap, interpolation='nearest')\n",
    "    plt.xticks([])\n",
    "    plt.yticks([])\n",
    "    plt.show()"
   ]
  },
  {
   "cell_type": "code",
   "execution_count": 63,
   "metadata": {},
   "outputs": [
    {
     "data": {
      "image/png": "[encoded data removed]",
      "text/plain": [
       "<Figure size 432x288 with 1 Axes>"
      ]
     },
     "metadata": {},
     "output_type": "display_data"
    },
    {
     "data": {
      "image/png": "[encoded data removed]",
      "text/plain": [
       "<Figure size 432x288 with 1 Axes>"
      ]
     },
     "metadata": {},
     "output_type": "display_data"
    },
    {
     "data": {
      "image/png": "[encoded data removed]",
      "text/plain": [
       "<Figure size 432x288 with 1 Axes>"
      ]
     },
     "metadata": {},
     "output_type": "display_data"
    },
    {
     "data": {
      "image/png": "[encoded data removed]",
      "text/plain": [
       "<Figure size 432x288 with 1 Axes>"
      ]
     },
     "metadata": {},
     "output_type": "display_data"
    },
    {
     "data": {
      "image/png": "[encoded data removed]",
      "text/plain": [
       "<Figure size 432x288 with 1 Axes>"
      ]
     },
     "metadata": {},
     "output_type": "display_data"
    },
    {
     "data": {
      "image/png": "[encoded data removed]",
      "text/plain": [
       "<Figure size 432x288 with 1 Axes>"
      ]
     },
     "metadata": {},
     "output_type": "display_data"
    },
    {
     "data": {
      "image/png": "[encoded data removed]",
      "text/plain": [
       "<Figure size 432x288 with 1 Axes>"
      ]
     },
     "metadata": {},
     "output_type": "display_data"
    }
   ],
   "source": [
    "# Import PCA\n",
    "from sklearn.decomposition import PCA\n",
    "\n",
    "# Create a PCA instance: model\n",
    "model = PCA(n_components=7)\n",
    "\n",
    "# Apply fit_transform to samples: features\n",
    "features = model.fit_transform(samples_lcd)\n",
    "\n",
    "# Call show_as_image on each component\n",
    "for component in model.components_:\n",
    "    show_as_image(component)"
   ]
  },
  {
   "cell_type": "markdown",
   "metadata": {},
   "source": [
    "## Building recommender systems using NMF"
   ]
  },
  {
   "cell_type": "markdown",
   "metadata": {},
   "source": [
    "Ce qu'on doit faire :"
   ]
  },
  {
   "cell_type": "markdown",
   "metadata": {},
   "source": [
    "<img src='Task.png'>"
   ]
  },
  {
   "cell_type": "markdown",
   "metadata": {},
   "source": [
    "Comment nous allons procéder :"
   ]
  },
  {
   "cell_type": "markdown",
   "metadata": {},
   "source": [
    "<img src='Strategy.png'>"
   ]
  },
  {
   "cell_type": "markdown",
   "metadata": {},
   "source": [
    "### Which articles are similar to 'Cristiano Ronaldo'?\n",
    "\n",
    "Dans la vidéo, vous avez appris à utiliser les fonctionnalités de NMF et la similarité de cosinus pour trouver des articles similaires. Appliquez cela à votre modèle NMF pour les articles populaires de Wikipedia, en recherchant les articles les plus similaires à l'article sur le footballeur Cristiano Ronaldo. Les fonctionnalités NMF que vous avez obtenues précédemment sont disponibles sous la forme nmf_features, tandis que titres est une liste des titres d'articles."
   ]
  },
  {
   "cell_type": "code",
   "execution_count": 65,
   "metadata": {},
   "outputs": [
    {
     "name": "stdout",
     "output_type": "stream",
     "text": [
      "Cristiano Ronaldo                1.000000\n",
      "Franck Ribéry                    0.999972\n",
      "Radamel Falcao                   0.999942\n",
      "Zlatan Ibrahimović               0.999942\n",
      "France national football team    0.999923\n",
      "dtype: float64\n"
     ]
    }
   ],
   "source": [
    "# Perform the necessary imports\n",
    "import pandas as pd\n",
    "from sklearn.preprocessing import normalize\n",
    "\n",
    "# Normalize the NMF features: norm_features\n",
    "norm_features = normalize(nmf_features)\n",
    "\n",
    "# Create a DataFrame: df\n",
    "df = pd.DataFrame(norm_features, index=titles)\n",
    "\n",
    "# Select the row corresponding to 'Cristiano Ronaldo': article\n",
    "article = df.loc['Cristiano Ronaldo']\n",
    "\n",
    "# Compute the dot products: similarities\n",
    "#Apply the .dot() method of df to article to calculate the cosine similarity of every row with article\n",
    "similarities = df.dot(article)\n",
    "\n",
    "# Display those with the largest cosine similarity\n",
    "# to display the most similiar articles\n",
    "print(similarities.nlargest())"
   ]
  },
  {
   "cell_type": "markdown",
   "metadata": {},
   "source": [
    "### Recommend musical artists"
   ]
  },
  {
   "cell_type": "markdown",
   "metadata": {},
   "source": [
    "Dans cet exercice et le suivant, vous utiliserez ce que vous avez appris sur NMF pour recommander des artistes de musique populaires! Vous recevez un tableau fragmenté d'artistes dont les rangées correspondent aux artistes et dont la colonne correspond aux utilisateurs. Les entrées donnent le nombre de fois que chaque artiste a été écouté par chaque utilisateur.\n",
    "\n",
    "Dans cet exercice, créez un pipeline et transformez la matrice en fonctionnalités NMF normalisées. MaxAbsScaler, la première étape du processus, transforme les données afin que tous les utilisateurs aient la même influence sur le modèle, quel que soit le nombre d'artistes différents qu'ils ont écoutés. Dans le prochain exercice, vous utiliserez les fonctionnalités NMF normalisées obtenues à titre de recommandation!"
   ]
  },
  {
   "cell_type": "markdown",
   "metadata": {},
   "source": [
    "**NB** : we don't have the artists data but here is the code and output"
   ]
  },
  {
   "cell_type": "code",
   "execution_count": null,
   "metadata": {},
   "outputs": [],
   "source": [
    "# Perform the necessary imports\n",
    "from sklearn.decomposition import NMF\n",
    "from sklearn.preprocessing import Normalizer, MaxAbsScaler\n",
    "from sklearn.pipeline import make_pipeline\n",
    "\n",
    "# Create a MaxAbsScaler: scaler\n",
    "scaler = MaxAbsScaler()\n",
    "\n",
    "# Create an NMF model: nmf\n",
    "nmf = NMF(n_components=20)\n",
    "\n",
    "# Create a Normalizer: normalizer\n",
    "normalizer = Normalizer()\n",
    "\n",
    "# Create a pipeline: pipeline\n",
    "pipeline = make_pipeline(scaler, nmf, normalizer)\n",
    "\n",
    "# Apply fit_transform to artists: norm_features\n",
    "norm_features = pipeline.fit_transform(artists)"
   ]
  },
  {
   "cell_type": "code",
   "execution_count": null,
   "metadata": {},
   "outputs": [],
   "source": [
    "# Import pandas\n",
    "import pandas as pd\n",
    "\n",
    "# Create a DataFrame: df\n",
    "df = pd.DataFrame(norm_features, index=artist_names)\n",
    "\n",
    "# Select row of 'Bruce Springsteen': artist\n",
    "artist = df.loc['Bruce Springsteen']\n",
    "\n",
    "# Compute cosine similarities: similarities\n",
    "similarities = df.dot(artist)\n",
    "\n",
    "# Display those with highest cosine similarity\n",
    "print(similarities.nlargest())"
   ]
  },
  {
   "cell_type": "markdown",
   "metadata": {},
   "source": [
    "Resultat:"
   ]
  },
  {
   "cell_type": "markdown",
   "metadata": {},
   "source": [
    "    Bruce Springsteen    1.000000\n",
    "    Neil Young           0.957272\n",
    "    Van Morrison         0.874903\n",
    "    Leonard Cohen        0.864807\n",
    "    Bob Dylan            0.863323\n",
    "    dtype: float64"
   ]
  },
  {
   "cell_type": "markdown",
   "metadata": {},
   "source": [
    "On pourrait recommender à notre utilisateur ces artistes ou seulement les 2 premiers; Neil Young et Van Morisson."
   ]
  },
  {
   "cell_type": "markdown",
   "metadata": {},
   "source": [
    "**Sources**: All the rights reserved to : \n",
    "- [DataCamp Unsupervised Learning](https://www.datacamp.com/courses/unsupervised-learning-in-python)"
   ]
  }
 ],
 "metadata": {
  "kernelspec": {
   "display_name": "Python 3",
   "language": "python",
   "name": "python3"
  },
  "language_info": {
   "codemirror_mode": {
    "name": "ipython",
    "version": 3
   },
   "file_extension": ".py",
   "mimetype": "text/x-python",
   "name": "python",
   "nbconvert_exporter": "python",
   "pygments_lexer": "ipython3",
   "version": "3.6.6"
  },
  "toc": {
   "base_numbering": 1,
   "nav_menu": {},
   "number_sections": true,
   "sideBar": true,
   "skip_h1_title": false,
   "title_cell": "Table of Contents",
   "title_sidebar": "Contents",
   "toc_cell": false,
   "toc_position": {},
   "toc_section_display": true,
   "toc_window_display": false
  }
 },
 "nbformat": 4,
 "nbformat_minor": 2
}
